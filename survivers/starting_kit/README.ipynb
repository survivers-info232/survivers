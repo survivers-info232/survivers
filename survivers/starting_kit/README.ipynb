{
 "cells": [
  {
   "cell_type": "markdown",
   "metadata": {},
   "source": [
    "<div style=\"background:#FFFFAA\">\n",
    "<img src=\"nhanes.jpg\", width=150, border=20>\n",
    "<h1>Survival Starting Kit </h1>\n",
    "</div>"
   ]
  },
  {
   "cell_type": "markdown",
   "metadata": {},
   "source": [
    "<div style=\"background:#FFFFAA\">\n",
    "    <h2>Introduction </h2>\n",
    "    <p>\n",
    "    <span style=\"color:red\">  </span>\n",
    "     <br>\n",
    "In this challenge we try to tackle a survival analysis problem from a machine learning perspective. The goal of survival analysis is to predict the expected time before a given event occur. In our case we try to estimate the survival time of patients given some data from the NHANES dataset. \n",
    "\n",
    "Special thanks to our coordinators Kristin Bennett, Alexander New and Andrew for providing a clean aggregated version of the dataset.\n",
    " <br>\n",
    "    <span style=\"color:red\">  </span>\n",
    "</div>"
   ]
  },
  {
   "cell_type": "code",
   "execution_count": 1,
   "metadata": {},
   "outputs": [],
   "source": [
    "model_dir = 'sample_code_submission/'                        # Change the model to a better one once you have one!\n",
    "#model_dir = '../FILES/pretty_good_sample_code_submission/'\n",
    "result_dir = 'sample_result_submission/' \n",
    "problem_dir = 'ingestion_program/'  \n",
    "score_dir = 'scoring_program/'\n",
    "from sys import path; path.append(model_dir); path.append(problem_dir); path.append(score_dir); \n",
    "%matplotlib inline\n",
    "# Uncomment the next lines to auto-reload libraries (this causes some problem with pickles in Python 3)\n",
    "%load_ext autoreload\n",
    "%autoreload 2\n",
    "import seaborn as sns; sns.set()\n",
    "import warnings\n",
    "warnings.simplefilter(action='ignore', category=FutureWarning)"
   ]
  },
  {
   "cell_type": "markdown",
   "metadata": {},
   "source": [
    "<div style=\"background:#FFFFAA\">\n",
    "    <h1> Step 1: Exploratory data analysis </h1>\n",
    "<p>\n",
    "We provide sample_data with the starting kit, but to prepare your submission, you must fetch the public_data from the challenge website and point to it.\n",
    "    <br>\n",
    "    <span style=\"color:red\">  </span>\n",
    "</div>"
   ]
  },
  {
   "cell_type": "code",
   "execution_count": 2,
   "metadata": {},
   "outputs": [
    {
     "name": "stdout",
     "output_type": "stream",
     "text": [
      "Mortality_feat.name      Mortality_test.data      Mortality_valid.data\r\n",
      "Mortality_label.name     Mortality_train.data\r\n",
      "Mortality_public.info    Mortality_train.solution\r\n"
     ]
    }
   ],
   "source": [
    "data_dir = '../public_data'              # Change this to the directory where you put the input data\n",
    "data_name = 'Mortality'\n",
    "!ls $data_dir*"
   ]
  },
  {
   "cell_type": "markdown",
   "metadata": {},
   "source": [
    "For convenience, we load the data as a \"pandas\" data frame, so we can use \"pandas\" and \"seaborn\" built in functions to explore the data."
   ]
  },
  {
   "cell_type": "code",
   "execution_count": 3,
   "metadata": {
    "scrolled": true
   },
   "outputs": [
    {
     "name": "stdout",
     "output_type": "stream",
     "text": [
      "Reading ../public_data/Mortality_train from AutoML format\n",
      "Number of examples = 19297\n",
      "Number of features = 10\n",
      "(19297, 10)\n",
      "(19297, 2)\n",
      "(19297, 12)\n"
     ]
    }
   ],
   "source": [
    "from data_io import read_as_df\n",
    "data = read_as_df(data_dir  + '/' + data_name)\n",
    "print(data.shape)# The data are loaded as a Pandas Data Frame"
   ]
  },
  {
   "cell_type": "code",
   "execution_count": 4,
   "metadata": {
    "scrolled": true
   },
   "outputs": [
    {
     "data": {
      "text/html": [
       "<div>\n",
       "<style scoped>\n",
       "    .dataframe tbody tr th:only-of-type {\n",
       "        vertical-align: middle;\n",
       "    }\n",
       "\n",
       "    .dataframe tbody tr th {\n",
       "        vertical-align: top;\n",
       "    }\n",
       "\n",
       "    .dataframe thead th {\n",
       "        text-align: right;\n",
       "    }\n",
       "</style>\n",
       "<table border=\"1\" class=\"dataframe\">\n",
       "  <thead>\n",
       "    <tr style=\"text-align: right;\">\n",
       "      <th></th>\n",
       "      <th>age</th>\n",
       "      <th>sbp</th>\n",
       "      <th>dbp</th>\n",
       "      <th>A1c</th>\n",
       "      <th>bmi</th>\n",
       "      <th>gender_male</th>\n",
       "      <th>ethnicity_NonHispanicBlack</th>\n",
       "      <th>ethnicity_NonHispanicWhite</th>\n",
       "      <th>ethnicity_Other</th>\n",
       "      <th>ethnicity_OtherHispanic</th>\n",
       "      <th>target</th>\n",
       "      <th>event</th>\n",
       "    </tr>\n",
       "  </thead>\n",
       "  <tbody>\n",
       "    <tr>\n",
       "      <th>0</th>\n",
       "      <td>71</td>\n",
       "      <td>98.666667</td>\n",
       "      <td>60.666667</td>\n",
       "      <td>5.3</td>\n",
       "      <td>29.68</td>\n",
       "      <td>1</td>\n",
       "      <td>0</td>\n",
       "      <td>1</td>\n",
       "      <td>0</td>\n",
       "      <td>0</td>\n",
       "      <td>63.0</td>\n",
       "      <td>0.0</td>\n",
       "    </tr>\n",
       "    <tr>\n",
       "      <th>1</th>\n",
       "      <td>49</td>\n",
       "      <td>130.666667</td>\n",
       "      <td>89.333333</td>\n",
       "      <td>5.5</td>\n",
       "      <td>18.85</td>\n",
       "      <td>1</td>\n",
       "      <td>1</td>\n",
       "      <td>0</td>\n",
       "      <td>0</td>\n",
       "      <td>0</td>\n",
       "      <td>78.0</td>\n",
       "      <td>0.0</td>\n",
       "    </tr>\n",
       "    <tr>\n",
       "      <th>2</th>\n",
       "      <td>48</td>\n",
       "      <td>122.000000</td>\n",
       "      <td>74.666667</td>\n",
       "      <td>5.9</td>\n",
       "      <td>36.16</td>\n",
       "      <td>0</td>\n",
       "      <td>1</td>\n",
       "      <td>0</td>\n",
       "      <td>0</td>\n",
       "      <td>0</td>\n",
       "      <td>112.0</td>\n",
       "      <td>0.0</td>\n",
       "    </tr>\n",
       "    <tr>\n",
       "      <th>3</th>\n",
       "      <td>19</td>\n",
       "      <td>102.000000</td>\n",
       "      <td>61.333333</td>\n",
       "      <td>5.3</td>\n",
       "      <td>21.17</td>\n",
       "      <td>1</td>\n",
       "      <td>1</td>\n",
       "      <td>0</td>\n",
       "      <td>0</td>\n",
       "      <td>0</td>\n",
       "      <td>138.0</td>\n",
       "      <td>0.0</td>\n",
       "    </tr>\n",
       "    <tr>\n",
       "      <th>4</th>\n",
       "      <td>28</td>\n",
       "      <td>107.000000</td>\n",
       "      <td>59.000000</td>\n",
       "      <td>4.8</td>\n",
       "      <td>29.82</td>\n",
       "      <td>0</td>\n",
       "      <td>0</td>\n",
       "      <td>1</td>\n",
       "      <td>0</td>\n",
       "      <td>0</td>\n",
       "      <td>61.0</td>\n",
       "      <td>0.0</td>\n",
       "    </tr>\n",
       "  </tbody>\n",
       "</table>\n",
       "</div>"
      ],
      "text/plain": [
       "   age         sbp        dbp  A1c    bmi  gender_male  \\\n",
       "0   71   98.666667  60.666667  5.3  29.68            1   \n",
       "1   49  130.666667  89.333333  5.5  18.85            1   \n",
       "2   48  122.000000  74.666667  5.9  36.16            0   \n",
       "3   19  102.000000  61.333333  5.3  21.17            1   \n",
       "4   28  107.000000  59.000000  4.8  29.82            0   \n",
       "\n",
       "   ethnicity_NonHispanicBlack  ethnicity_NonHispanicWhite  ethnicity_Other  \\\n",
       "0                           0                           1                0   \n",
       "1                           1                           0                0   \n",
       "2                           1                           0                0   \n",
       "3                           1                           0                0   \n",
       "4                           0                           1                0   \n",
       "\n",
       "   ethnicity_OtherHispanic  target  event  \n",
       "0                        0    63.0    0.0  \n",
       "1                        0    78.0    0.0  \n",
       "2                        0   112.0    0.0  \n",
       "3                        0   138.0    0.0  \n",
       "4                        0    61.0    0.0  "
      ]
     },
     "execution_count": 4,
     "metadata": {},
     "output_type": "execute_result"
    }
   ],
   "source": [
    "data.head(5)"
   ]
  },
  {
   "cell_type": "markdown",
   "metadata": {},
   "source": [
    "Each row is a patient represented by more than 600 features the first of which are:\n",
    "- age : the patient's age \n",
    "- sbp : systolic blood pressure\n",
    "- dbp : diastolic blood pressure\n",
    "- A1c : glycated hemoglobin concentration (A1c test)\n",
    "- bmi : body mass index\n",
    "- gender_male : patient's gender, 0 female, 1 male\n",
    "\n",
    "The initial data contained an ethnicity feature that has been one hot encoded so that the data can be used by models that don't allow categorical data:\n",
    "- ethnicity_NonHispanicBlack : 1 for african american\n",
    "- ethnicity_NonHispanicWhite : 1 for white ethnicity \n",
    "- ethnicity_Other : 1 for neither african american, white or hispanic\n",
    "- ethnicity_OtherHispanic : 1 for hispanic\n",
    "\n",
    "The two last columns target and event are the labels.\n",
    "- target : the survival time to predict \n",
    "- event : if the data is censored (the patient left the study) 1 else 0 \n",
    "\n",
    "The other features meaning are available on the NHANES website."
   ]
  },
  {
   "cell_type": "code",
   "execution_count": 5,
   "metadata": {},
   "outputs": [
    {
     "name": "stdout",
     "output_type": "stream",
     "text": [
      "231564\n",
      "89673\n",
      "0.38724931336477175\n"
     ]
    }
   ],
   "source": [
    "data.head(1000)\n",
    "print(data.size)\n",
    "som=0\n",
    "for i in range (data.shape[0]):\n",
    "    for j in range (data.shape[1]):\n",
    "        if data.iat[i,j]==0 :\n",
    "            som+=1\n",
    "print (som)\n",
    "print(som/data.size)"
   ]
  },
  {
   "cell_type": "markdown",
   "metadata": {},
   "source": [
    "The pandas describe() function give us a quick overview of the data statistics"
   ]
  },
  {
   "cell_type": "code",
   "execution_count": 6,
   "metadata": {},
   "outputs": [
    {
     "data": {
      "text/html": [
       "<div>\n",
       "<style scoped>\n",
       "    .dataframe tbody tr th:only-of-type {\n",
       "        vertical-align: middle;\n",
       "    }\n",
       "\n",
       "    .dataframe tbody tr th {\n",
       "        vertical-align: top;\n",
       "    }\n",
       "\n",
       "    .dataframe thead th {\n",
       "        text-align: right;\n",
       "    }\n",
       "</style>\n",
       "<table border=\"1\" class=\"dataframe\">\n",
       "  <thead>\n",
       "    <tr style=\"text-align: right;\">\n",
       "      <th></th>\n",
       "      <th>age</th>\n",
       "      <th>sbp</th>\n",
       "      <th>dbp</th>\n",
       "      <th>A1c</th>\n",
       "      <th>bmi</th>\n",
       "      <th>gender_male</th>\n",
       "      <th>ethnicity_NonHispanicBlack</th>\n",
       "      <th>ethnicity_NonHispanicWhite</th>\n",
       "      <th>ethnicity_Other</th>\n",
       "      <th>ethnicity_OtherHispanic</th>\n",
       "      <th>target</th>\n",
       "      <th>event</th>\n",
       "    </tr>\n",
       "  </thead>\n",
       "  <tbody>\n",
       "    <tr>\n",
       "      <th>count</th>\n",
       "      <td>19297.000000</td>\n",
       "      <td>19297.000000</td>\n",
       "      <td>19297.000000</td>\n",
       "      <td>19297.000000</td>\n",
       "      <td>19297.000000</td>\n",
       "      <td>19297.000000</td>\n",
       "      <td>19297.000000</td>\n",
       "      <td>19297.000000</td>\n",
       "      <td>19297.000000</td>\n",
       "      <td>19297.000000</td>\n",
       "      <td>19297.000000</td>\n",
       "      <td>19297.000000</td>\n",
       "    </tr>\n",
       "    <tr>\n",
       "      <th>mean</th>\n",
       "      <td>46.632793</td>\n",
       "      <td>124.188492</td>\n",
       "      <td>69.254426</td>\n",
       "      <td>5.570083</td>\n",
       "      <td>28.246865</td>\n",
       "      <td>0.483650</td>\n",
       "      <td>0.202156</td>\n",
       "      <td>0.479142</td>\n",
       "      <td>0.038192</td>\n",
       "      <td>0.057781</td>\n",
       "      <td>89.611235</td>\n",
       "      <td>0.098720</td>\n",
       "    </tr>\n",
       "    <tr>\n",
       "      <th>std</th>\n",
       "      <td>19.854414</td>\n",
       "      <td>20.036147</td>\n",
       "      <td>13.843717</td>\n",
       "      <td>1.013537</td>\n",
       "      <td>6.344524</td>\n",
       "      <td>0.499746</td>\n",
       "      <td>0.401618</td>\n",
       "      <td>0.499578</td>\n",
       "      <td>0.191666</td>\n",
       "      <td>0.233335</td>\n",
       "      <td>35.819216</td>\n",
       "      <td>0.298293</td>\n",
       "    </tr>\n",
       "    <tr>\n",
       "      <th>min</th>\n",
       "      <td>18.000000</td>\n",
       "      <td>72.666667</td>\n",
       "      <td>0.000000</td>\n",
       "      <td>2.000000</td>\n",
       "      <td>12.040000</td>\n",
       "      <td>0.000000</td>\n",
       "      <td>0.000000</td>\n",
       "      <td>0.000000</td>\n",
       "      <td>0.000000</td>\n",
       "      <td>0.000000</td>\n",
       "      <td>1.000000</td>\n",
       "      <td>0.000000</td>\n",
       "    </tr>\n",
       "    <tr>\n",
       "      <th>25%</th>\n",
       "      <td>29.000000</td>\n",
       "      <td>110.666667</td>\n",
       "      <td>62.000000</td>\n",
       "      <td>5.100000</td>\n",
       "      <td>23.850000</td>\n",
       "      <td>0.000000</td>\n",
       "      <td>0.000000</td>\n",
       "      <td>0.000000</td>\n",
       "      <td>0.000000</td>\n",
       "      <td>0.000000</td>\n",
       "      <td>58.000000</td>\n",
       "      <td>0.000000</td>\n",
       "    </tr>\n",
       "    <tr>\n",
       "      <th>50%</th>\n",
       "      <td>45.000000</td>\n",
       "      <td>120.666667</td>\n",
       "      <td>70.000000</td>\n",
       "      <td>5.400000</td>\n",
       "      <td>27.340000</td>\n",
       "      <td>0.000000</td>\n",
       "      <td>0.000000</td>\n",
       "      <td>0.000000</td>\n",
       "      <td>0.000000</td>\n",
       "      <td>0.000000</td>\n",
       "      <td>88.000000</td>\n",
       "      <td>0.000000</td>\n",
       "    </tr>\n",
       "    <tr>\n",
       "      <th>75%</th>\n",
       "      <td>63.000000</td>\n",
       "      <td>134.000000</td>\n",
       "      <td>77.333333</td>\n",
       "      <td>5.700000</td>\n",
       "      <td>31.530000</td>\n",
       "      <td>1.000000</td>\n",
       "      <td>0.000000</td>\n",
       "      <td>1.000000</td>\n",
       "      <td>0.000000</td>\n",
       "      <td>0.000000</td>\n",
       "      <td>121.000000</td>\n",
       "      <td>0.000000</td>\n",
       "    </tr>\n",
       "    <tr>\n",
       "      <th>max</th>\n",
       "      <td>85.000000</td>\n",
       "      <td>270.000000</td>\n",
       "      <td>132.000000</td>\n",
       "      <td>18.800000</td>\n",
       "      <td>130.210000</td>\n",
       "      <td>1.000000</td>\n",
       "      <td>1.000000</td>\n",
       "      <td>1.000000</td>\n",
       "      <td>1.000000</td>\n",
       "      <td>1.000000</td>\n",
       "      <td>153.000000</td>\n",
       "      <td>1.000000</td>\n",
       "    </tr>\n",
       "  </tbody>\n",
       "</table>\n",
       "</div>"
      ],
      "text/plain": [
       "                age           sbp           dbp           A1c           bmi  \\\n",
       "count  19297.000000  19297.000000  19297.000000  19297.000000  19297.000000   \n",
       "mean      46.632793    124.188492     69.254426      5.570083     28.246865   \n",
       "std       19.854414     20.036147     13.843717      1.013537      6.344524   \n",
       "min       18.000000     72.666667      0.000000      2.000000     12.040000   \n",
       "25%       29.000000    110.666667     62.000000      5.100000     23.850000   \n",
       "50%       45.000000    120.666667     70.000000      5.400000     27.340000   \n",
       "75%       63.000000    134.000000     77.333333      5.700000     31.530000   \n",
       "max       85.000000    270.000000    132.000000     18.800000    130.210000   \n",
       "\n",
       "        gender_male  ethnicity_NonHispanicBlack  ethnicity_NonHispanicWhite  \\\n",
       "count  19297.000000                19297.000000                19297.000000   \n",
       "mean       0.483650                    0.202156                    0.479142   \n",
       "std        0.499746                    0.401618                    0.499578   \n",
       "min        0.000000                    0.000000                    0.000000   \n",
       "25%        0.000000                    0.000000                    0.000000   \n",
       "50%        0.000000                    0.000000                    0.000000   \n",
       "75%        1.000000                    0.000000                    1.000000   \n",
       "max        1.000000                    1.000000                    1.000000   \n",
       "\n",
       "       ethnicity_Other  ethnicity_OtherHispanic        target         event  \n",
       "count     19297.000000             19297.000000  19297.000000  19297.000000  \n",
       "mean          0.038192                 0.057781     89.611235      0.098720  \n",
       "std           0.191666                 0.233335     35.819216      0.298293  \n",
       "min           0.000000                 0.000000      1.000000      0.000000  \n",
       "25%           0.000000                 0.000000     58.000000      0.000000  \n",
       "50%           0.000000                 0.000000     88.000000      0.000000  \n",
       "75%           0.000000                 0.000000    121.000000      0.000000  \n",
       "max           1.000000                 1.000000    153.000000      1.000000  "
      ]
     },
     "execution_count": 6,
     "metadata": {},
     "output_type": "execute_result"
    }
   ],
   "source": [
    "data.describe() "
   ]
  },
  {
   "cell_type": "code",
   "execution_count": 7,
   "metadata": {},
   "outputs": [],
   "source": [
    "import numpy as np\n",
    "import pandas as pd\n",
    "import matplotlib.pyplot as plt\n",
    "import seaborn as sns\n",
    "\n",
    "from functools import reduce\n",
    "from lifelines import KaplanMeierFitter, CoxPHFitter\n",
    "from lifelines.utils import concordance_index\n",
    "from sklearn.model_selection import train_test_split"
   ]
  },
  {
   "cell_type": "markdown",
   "metadata": {},
   "source": [
    "In the next cell, we plot histograms of survival time for censored (0) and uncensored (1) examples.\n",
    "\n",
    "We can see that there are no examples of censored example with a low survival time. We can also see that there are more censored data than uncensored"
   ]
  },
  {
   "cell_type": "code",
   "execution_count": 8,
   "metadata": {
    "scrolled": true
   },
   "outputs": [
    {
     "data": {
      "image/png": "[encoded data removed]",
      "text/plain": [
       "<Figure size 432x288 with 2 Axes>"
      ]
     },
     "metadata": {
      "needs_background": "light"
     },
     "output_type": "display_data"
    }
   ],
   "source": [
    "ax=data.hist(column='target', by='event', bins=100, layout=(2,1), log=True, sharex=True, sharey=True)"
   ]
  },
  {
   "cell_type": "code",
   "execution_count": 9,
   "metadata": {},
   "outputs": [
    {
     "data": {
      "image/png": "[encoded data removed]",
      "text/plain": [
       "<Figure size 432x288 with 2 Axes>"
      ]
     },
     "metadata": {
      "needs_background": "light"
     },
     "output_type": "display_data"
    }
   ],
   "source": [
    "# Better visualise the difference \n",
    "ax = data.hist(column='target', by=['event'], bins=30, sharex=True)"
   ]
  },
  {
   "cell_type": "markdown",
   "metadata": {},
   "source": [
    "We have around 90% of censored data."
   ]
  },
  {
   "cell_type": "code",
   "execution_count": 10,
   "metadata": {},
   "outputs": [
    {
     "name": "stdout",
     "output_type": "stream",
     "text": [
      "Number of uncensored examples : 1905\n",
      "Number of censored examples : 17392\n",
      "0.9012799917085558\n"
     ]
    }
   ],
   "source": [
    "df2 = data.loc[data['event'] == 1]\n",
    "nb_uncensored = len(df2)\n",
    "print('Number of uncensored examples : '+str(nb_uncensored))\n",
    "df2 = data.loc[data['event'] == 0]\n",
    "nb_censored = len(df2)\n",
    "print('Number of censored examples : '+str(nb_censored))\n",
    "print(nb_censored / (nb_uncensored + nb_censored))"
   ]
  },
  {
   "cell_type": "markdown",
   "metadata": {},
   "source": [
    "We next plot the same histograms by gender (0 female, 1 male), male survival seems slightly lower.\n"
   ]
  },
  {
   "cell_type": "code",
   "execution_count": 11,
   "metadata": {
    "scrolled": true
   },
   "outputs": [
    {
     "data": {
      "image/png": "[encoded data removed]",
      "text/plain": [
       "<Figure size 720x576 with 4 Axes>"
      ]
     },
     "metadata": {
      "needs_background": "light"
     },
     "output_type": "display_data"
    }
   ],
   "source": [
    "# Lifetime distribution by gender \n",
    "ax = data.hist(column='target', by=['gender_male','event'], bins=50\n",
    "             ,sharex=True, figsize=(10,8))"
   ]
  },
  {
   "cell_type": "markdown",
   "metadata": {},
   "source": [
    "<div style=\"background:#FFFFAA\">\n",
    "<h1>Step 2: Building a predictive model</h1>\n",
    "</div>"
   ]
  },
  {
   "cell_type": "markdown",
   "metadata": {},
   "source": [
    "<div style=\"background:#FFFFAA\">\n",
    "    <h2>Loading data with DataManager</h2>\n",
    "    <p>\n",
    "We reload the data with the AutoML DataManager class because this is more convenient:\n",
    "   <br>     <span style=\"color:red\"> </span>\n",
    "</div>"
   ]
  },
  {
   "cell_type": "code",
   "execution_count": 12,
   "metadata": {},
   "outputs": [
    {
     "name": "stdout",
     "output_type": "stream",
     "text": [
      "Info file found : /Users/justinenourry/Desktop/survivers/survivers/public_data/Mortality_public.info\n",
      "DataManager : Mortality\n",
      "info:\n",
      "\tusage = Continuous NHANES Mortality data\n",
      "\tname = mortality\n",
      "\ttask = multilabel.classification\n",
      "\ttarget_type = Numerical\n",
      "\tfeat_type = Numerical\n",
      "\tmetric = concordance_index\n",
      "\ttime_budget = 1200\n",
      "\tfeat_num = 11\n",
      "\ttarget_num = 1\n",
      "\tlabel_num = 2\n",
      "\ttrain_num = 19297\n",
      "\tvalid_num = 2171\n",
      "\ttest_num = 2412\n",
      "\thas_categorical = 0\n",
      "\thas_missing = 0\n",
      "\tis_sparse = 0\n",
      "\tformat = dense\n",
      "data:\n",
      "\tX_train = array(19297, 10)\n",
      "\tY_train = array(19297, 2)\n",
      "\tX_valid = array(2413, 10)\n",
      "\tY_valid = array(0,)\n",
      "\tX_test = array(2412, 10)\n",
      "\tY_test = array(0,)\n",
      "feat_type:\tarray(11,)\n",
      "feat_idx:\tarray(0,)\n",
      "\n"
     ]
    }
   ],
   "source": [
    "from data_manager import DataManager\n",
    "D = DataManager(data_name, data_dir, replace_missing=True)\n",
    "print(D)"
   ]
  },
  {
   "cell_type": "markdown",
   "metadata": {},
   "source": [
    "<div style=\"background:#FFFFAA\">\n",
    "    <h2>Training a predictive model</h2>\n",
    "    <p>\n",
    "We provide an example of predictive model (for classification or regression) in the `sample_code_submission/` directory. It is a quite stupid model: it makes constant predictions. Replace it with your own model.\n",
    "    </div>"
   ]
  },
  {
   "cell_type": "code",
   "execution_count": 13,
   "metadata": {},
   "outputs": [],
   "source": [
    "from data_io import write\n",
    "from model import model\n",
    "from model import Preprocessor\n",
    "import pickle\n",
    "import numpy as np   # We recommend to use numpy arrays\n",
    "from os.path import isfile\n",
    "from sklearn.base import BaseEstimator"
   ]
  },
  {
   "cell_type": "markdown",
   "metadata": {},
   "source": [
    "<div style=\"background:#FFFFAA\">\n",
    "an instance of the model (run the constructor) and attempt to reload a previously saved version from `sample_code_submission/`:\n",
    "\n",
    "To build custom model you can edit the model.py we gave you and zip it with the metadata file so you can make a submission. You can also test the model here. \n",
    "</div>"
   ]
  },
  {
   "cell_type": "code",
   "execution_count": 14,
   "metadata": {},
   "outputs": [],
   "source": [
    "# Instantiate you model \n",
    "M = model()\n"
   ]
  },
  {
   "cell_type": "code",
   "execution_count": 15,
   "metadata": {},
   "outputs": [
    {
     "name": "stdout",
     "output_type": "stream",
     "text": [
      "FIT: dim(X)= [19297, 10]\n",
      "FIT: dim(y)= [19297, 2]\n"
     ]
    }
   ],
   "source": [
    "if True:\n",
    "    X_train = D.data['X_train']\n",
    "    Y_train = D.data['Y_train']\n",
    "    X_valid = D.data['X_valid']\n",
    "    X_test = D.data['X_test']\n",
    "    Y_valid = D.data['Y_valid']\n",
    "    Y_test = D.data['Y_test']\n",
    "\n",
    "    M.fit(X_train , Y_train)\n",
    "\n",
    "\n",
    "Y_hat_train = M.predict(X_train) # Optional, not really needed to test on training examples\n",
    "Y_hat_valid = M.predict(X_valid)\n",
    "Y_hat_test = M.predict(X_test)\n"
   ]
  },
  {
   "cell_type": "code",
   "execution_count": 31,
   "metadata": {},
   "outputs": [
    {
     "name": "stdout",
     "output_type": "stream",
     "text": [
      "PREDICT: dim(X)= [3860, 10]\n",
      "PREDICT: dim(y)= [3860, 2]\n",
      "DEBUG : (3860,)\n",
      "PREDICT: dim(X)= [3860, 10]\n",
      "PREDICT: dim(y)= [3860, 2]\n",
      "DEBUG : (3860,)\n",
      "PREDICT: dim(X)= [3859, 10]\n",
      "PREDICT: dim(y)= [3859, 2]\n",
      "DEBUG : (3859,)\n",
      "PREDICT: dim(X)= [3859, 10]\n",
      "PREDICT: dim(y)= [3859, 2]\n",
      "DEBUG : (3859,)\n",
      "PREDICT: dim(X)= [3859, 10]\n",
      "PREDICT: dim(y)= [3859, 2]\n",
      "DEBUG : (3859,)\n",
      "PREDICT: dim(X)= [3860, 10]\n",
      "PREDICT: dim(y)= [3860, 2]\n",
      "DEBUG : (3860,)\n",
      "PREDICT: dim(X)= [3860, 10]\n",
      "PREDICT: dim(y)= [3860, 2]\n",
      "DEBUG : (3860,)\n",
      "PREDICT: dim(X)= [3859, 10]\n",
      "PREDICT: dim(y)= [3859, 2]\n",
      "DEBUG : (3859,)\n",
      "PREDICT: dim(X)= [3859, 10]\n",
      "PREDICT: dim(y)= [3859, 2]\n",
      "DEBUG : (3859,)\n",
      "PREDICT: dim(X)= [3859, 10]\n",
      "PREDICT: dim(y)= [3859, 2]\n",
      "DEBUG : (3859,)\n",
      "PREDICT: dim(X)= [3860, 10]\n",
      "PREDICT: dim(y)= [3860, 2]\n",
      "DEBUG : (3860,)\n",
      "PREDICT: dim(X)= [3860, 10]\n",
      "PREDICT: dim(y)= [3860, 2]\n",
      "DEBUG : (3860,)\n",
      "PREDICT: dim(X)= [3859, 10]\n",
      "PREDICT: dim(y)= [3859, 2]\n",
      "DEBUG : (3859,)\n",
      "PREDICT: dim(X)= [3859, 10]\n",
      "PREDICT: dim(y)= [3859, 2]\n",
      "DEBUG : (3859,)\n",
      "PREDICT: dim(X)= [3859, 10]\n",
      "PREDICT: dim(y)= [3859, 2]\n",
      "DEBUG : (3859,)\n",
      "PREDICT: dim(X)= [3860, 10]\n",
      "PREDICT: dim(y)= [3860, 2]\n",
      "DEBUG : (3860,)\n",
      "PREDICT: dim(X)= [3860, 10]\n",
      "PREDICT: dim(y)= [3860, 2]\n",
      "DEBUG : (3860,)\n",
      "PREDICT: dim(X)= [3859, 10]\n",
      "PREDICT: dim(y)= [3859, 2]\n",
      "DEBUG : (3859,)\n",
      "PREDICT: dim(X)= [3859, 10]\n",
      "PREDICT: dim(y)= [3859, 2]\n",
      "DEBUG : (3859,)\n",
      "PREDICT: dim(X)= [3859, 10]\n",
      "PREDICT: dim(y)= [3859, 2]\n",
      "DEBUG : (3859,)\n",
      "PREDICT: dim(X)= [3860, 10]\n",
      "PREDICT: dim(y)= [3860, 2]\n",
      "DEBUG : (3860,)\n",
      "PREDICT: dim(X)= [3860, 10]\n",
      "PREDICT: dim(y)= [3860, 2]\n",
      "DEBUG : (3860,)\n",
      "PREDICT: dim(X)= [3859, 10]\n",
      "PREDICT: dim(y)= [3859, 2]\n",
      "DEBUG : (3859,)\n",
      "PREDICT: dim(X)= [3859, 10]\n",
      "PREDICT: dim(y)= [3859, 2]\n",
      "DEBUG : (3859,)\n",
      "PREDICT: dim(X)= [3859, 10]\n",
      "PREDICT: dim(y)= [3859, 2]\n",
      "DEBUG : (3859,)\n",
      "PREDICT: dim(X)= [3860, 10]\n",
      "PREDICT: dim(y)= [3860, 2]\n",
      "DEBUG : (3860,)\n",
      "PREDICT: dim(X)= [3860, 10]\n",
      "PREDICT: dim(y)= [3860, 2]\n",
      "DEBUG : (3860,)\n",
      "PREDICT: dim(X)= [3859, 10]\n",
      "PREDICT: dim(y)= [3859, 2]\n",
      "DEBUG : (3859,)\n",
      "PREDICT: dim(X)= [3859, 10]\n",
      "PREDICT: dim(y)= [3859, 2]\n",
      "DEBUG : (3859,)\n",
      "PREDICT: dim(X)= [3859, 10]\n",
      "PREDICT: dim(y)= [3859, 2]\n",
      "DEBUG : (3859,)\n",
      "[[DecisionTreeRegressor(criterion='mse', max_depth=4, max_features=None,\n",
      "           max_leaf_nodes=None, min_impurity_decrease=0.0,\n",
      "           min_impurity_split=None, min_samples_leaf=1,\n",
      "           min_samples_split=2, min_weight_fraction_leaf=0.0,\n",
      "           presort=False, random_state=None, splitter='best')\n",
      "  0.5007145799749939]\n",
      " [GaussianNB(priors=None, var_smoothing=1e-09) 0.5006953438524953]\n",
      " [LinearRegression(copy_X=True, fit_intercept=True, n_jobs=None,\n",
      "         normalize=False)\n",
      "  0.5005522032036637]\n",
      " [RandomForestClassifier(bootstrap=True, class_weight=None, criterion='gini',\n",
      "            max_depth=None, max_features='auto', max_leaf_nodes=None,\n",
      "            min_impurity_decrease=0.0, min_impurity_split=None,\n",
      "            min_samples_leaf=1, min_samples_split=2,\n",
      "            min_weight_fraction_leaf=0.0, n_estimators=10, n_jobs=None,\n",
      "            oob_score=False, random_state=None, verbose=0,\n",
      "            warm_start=False)\n",
      "  0.5006262485805149]\n",
      " [NearestCentroid(metric='euclidean', shrink_threshold=None)\n",
      "  0.5006428284810173]\n",
      " [GradientBoostingRegressor(alpha=0.9, criterion='friedman_mse', init=None,\n",
      "             learning_rate=0.1, loss='ls', max_depth=3, max_features=None,\n",
      "             max_leaf_nodes=None, min_impurity_decrease=0.0,\n",
      "             min_impurity_split=None, min_samples_leaf=1,\n",
      "             min_samples_split=2, min_weight_fraction_leaf=0.0,\n",
      "             n_estimators=100, n_iter_no_change=None, presort='auto',\n",
      "             random_state=None, subsample=1.0, tol=0.0001,\n",
      "             validation_fraction=0.1, verbose=0, warm_start=False)\n",
      "  0.5006016068271959]]\n"
     ]
    }
   ],
   "source": [
    "import numpy as np\n",
    "import model as m\n",
    "import model_sans_PCA as mspca\n",
    "from libscores import get_metric\n",
    "from sklearn.metrics import make_scorer\n",
    "from sklearn.model_selection import cross_val_score\n",
    "metric_name, scoring_function = get_metric()\n",
    "\n",
    "X_train = D.data['X_train']\n",
    "Y_train = D.data['Y_train']\n",
    "compteur = 0\n",
    "graph_array = np.empty((X_train.shape[1]* 6,3),dtype = np.object)\n",
    "\n",
    "for i in range (1, X_train.shape[1] +1) :\n",
    "    for j in range (6) :\n",
    "        M = m.model(j, i)\n",
    "        M.fit(X_train , Y_train) \n",
    "        scores = cross_val_score(M, X_train, Y_train, cv=5, scoring=make_scorer(scoring_function))\n",
    "        graph_array[compteur,0] = i #n_component\n",
    "        graph_array[compteur,1] = M.baseline_clf.steps[1][0] #regression testé\n",
    "        graph_array[compteur,2] = scores.mean() #score de cross-validation\n",
    "        compteur += 1\n",
    "        \n",
    "graph_array_sans_PCA = np.empty((6,2),dtype = np.object)\n",
    "compteur1 = 0\n",
    "for j in range (6) :\n",
    "    M = mspca.model(j)\n",
    "    M.fit(X_train , Y_train)\n",
    "    scores = cross_val_score(M, X_train, Y_train, cv=5, scoring=make_scorer(scoring_function))\n",
    "    graph_array_sans_PCA [compteur1,0] = M.baseline_clf  #regression testé\n",
    "    graph_array_sans_PCA [compteur1,1] = scores.mean()  #score de cross-validation\n",
    "    compteur1 += 1\n",
    "    \n",
    "print(graph_array_sans_PCA)\n"
   ]
  },
  {
   "cell_type": "code",
   "execution_count": 32,
   "metadata": {},
   "outputs": [
    {
     "name": "stdout",
     "output_type": "stream",
     "text": [
      "[[1 'DecisionTreeRegressor' 0.4889369100205411]\n",
      " [1 'GaussianNB' 0.4889369100205411]\n",
      " [1 'LinearRegression' 0.4889369100205411]\n",
      " [1 'RandomForestClassifier' 0.4889369100205411]\n",
      " [1 ' NearestCentroid' 0.4889369100205411]\n",
      " [1 'GradientBoostingRegressor' 0.4889369100205411]\n",
      " [2 'DecisionTreeRegressor' 0.4889369100205411]\n",
      " [2 'GaussianNB' 0.4889369100205411]\n",
      " [2 'LinearRegression' 0.4889369100205411]\n",
      " [2 'RandomForestClassifier' 0.4889369100205411]\n",
      " [2 ' NearestCentroid' 0.4889369100205411]\n",
      " [2 'GradientBoostingRegressor' 0.4889369100205411]\n",
      " [3 'DecisionTreeRegressor' 0.4889369100205411]\n",
      " [3 'GaussianNB' 0.4889369100205411]\n",
      " [3 'LinearRegression' 0.4889369100205411]\n",
      " [3 'RandomForestClassifier' 0.4889369100205411]\n",
      " [3 ' NearestCentroid' 0.4889369100205411]\n",
      " [3 'GradientBoostingRegressor' 0.4889369100205411]\n",
      " [4 'DecisionTreeRegressor' 0.4889369100205411]\n",
      " [4 'GaussianNB' 0.4889369100205411]\n",
      " [4 'LinearRegression' 0.4889369100205411]\n",
      " [4 'RandomForestClassifier' 0.4889369100205411]\n",
      " [4 ' NearestCentroid' 0.4889369100205411]\n",
      " [4 'GradientBoostingRegressor' 0.4889369100205411]\n",
      " [5 'DecisionTreeRegressor' 0.4889369100205411]\n",
      " [5 'GaussianNB' 0.4889369100205411]\n",
      " [5 'LinearRegression' 0.4889369100205411]\n",
      " [5 'RandomForestClassifier' 0.4889369100205411]\n",
      " [5 ' NearestCentroid' 0.4889369100205411]\n",
      " [5 'GradientBoostingRegressor' 0.4889369100205411]\n",
      " [6 'DecisionTreeRegressor' 0.4889369100205411]\n",
      " [6 'GaussianNB' 0.4889369100205411]\n",
      " [6 'LinearRegression' 0.4889369100205411]\n",
      " [6 'RandomForestClassifier' 0.4889369100205411]\n",
      " [6 ' NearestCentroid' 0.4889369100205411]\n",
      " [6 'GradientBoostingRegressor' 0.4889369100205411]\n",
      " [7 'DecisionTreeRegressor' 0.4889369100205411]\n",
      " [7 'GaussianNB' 0.4889369100205411]\n",
      " [7 'LinearRegression' 0.4889369100205411]\n",
      " [7 'RandomForestClassifier' 0.4889369100205411]\n",
      " [7 ' NearestCentroid' 0.4889369100205411]\n",
      " [7 'GradientBoostingRegressor' 0.4889369100205411]\n",
      " [8 'DecisionTreeRegressor' 0.4889369100205411]\n",
      " [8 'GaussianNB' 0.4889369100205411]\n",
      " [8 'LinearRegression' 0.4889369100205411]\n",
      " [8 'RandomForestClassifier' 0.4889369100205411]\n",
      " [8 ' NearestCentroid' 0.4889369100205411]\n",
      " [8 'GradientBoostingRegressor' 0.4889369100205411]\n",
      " [9 'DecisionTreeRegressor' 0.4889369100205411]\n",
      " [9 'GaussianNB' 0.4889369100205411]\n",
      " [9 'LinearRegression' 0.4889369100205411]\n",
      " [9 'RandomForestClassifier' 0.4889369100205411]\n",
      " [9 ' NearestCentroid' 0.4889369100205411]\n",
      " [9 'GradientBoostingRegressor' 0.4889369100205411]\n",
      " [10 'DecisionTreeRegressor' 0.4889369100205411]\n",
      " [10 'GaussianNB' 0.4889369100205411]\n",
      " [10 'LinearRegression' 0.4889369100205411]\n",
      " [10 'RandomForestClassifier' 0.4889369100205411]\n",
      " [10 ' NearestCentroid' 0.4889369100205411]\n",
      " [10 'GradientBoostingRegressor' 0.4889369100205411]]\n"
     ]
    }
   ],
   "source": [
    "print(graph_array)"
   ]
  },
  {
   "cell_type": "markdown",
   "metadata": {},
   "source": [
    "<div style=\"background:#FFFFAA\">\n",
    "    Train the model (unless you reloaded a trained model) and make predictions. \n",
    "</div>"
   ]
  },
  {
   "cell_type": "markdown",
   "metadata": {},
   "source": [
    "<div style=\"background:#FFFFAA\">\n",
    "    <b> Save the trained model </b> (will be ready to reload next time around) and save the prediction results. IMPORTANT: if you save the trained model, it will be bundled with your sample code submission. Therefore your model will NOT be retrained on the challenge platform. Remove the pickle from the submission if you want the model to be retrained on the platform.\n",
    "</div>"
   ]
  },
  {
   "cell_type": "code",
   "execution_count": 17,
   "metadata": {},
   "outputs": [],
   "source": [
    "#Uncomment if you want to save the model and or save the results\n",
    "#M.save(trained_model_name)                 \n",
    "#result_name = result_dir + data_name\n",
    "#from data_io import write\n",
    "#write(result_name + '_train.predict', Y_hat_train)\n",
    "#write(result_name + '_valid.predict', Y_hat_valid)\n",
    "#write(result_name + '_test.predict', Y_hat_test)\n",
    "#!ls $result_name*"
   ]
  },
  {
   "cell_type": "markdown",
   "metadata": {},
   "source": [
    "<div style=\"background:#FFFFAA\">\n",
    "    <h2>Scoring the results</h2>\n",
    "    <h3>Load the challenge metric</h3>\n",
    "    <p>\n",
    "<b>The metric chosen for your challenge</b> is identified in the \"metric.txt\" file found in the `scoring_function/` directory. The function \"get_metric\" searches first for a metric having that name in my_metric.py, then in libscores.py, then in sklearn.metric.\n",
    "    </div>"
   ]
  },
  {
   "cell_type": "code",
   "execution_count": 18,
   "metadata": {},
   "outputs": [
    {
     "name": "stdout",
     "output_type": "stream",
     "text": [
      "Using scoring metric: custom_c_index\n",
      "The metric is between 0 and 1. The higher the better\n"
     ]
    }
   ],
   "source": [
    "from libscores import get_metric\n",
    "metric_name, scoring_function = get_metric()\n",
    "print('Using scoring metric:', metric_name)\n",
    "print('The metric is between 0 and 1. The higher the better')"
   ]
  },
  {
   "cell_type": "markdown",
   "metadata": {},
   "source": [
    "<div style=\"background:#FFFFAA\">\n",
    "    <h3> Training performance </h3>\n",
    "    <p>\n",
    "The participants normally posess target values (labels) only for training examples (except for the sample data). We compute with the `example` metric the training score, which should be zero for perfect predictions.\n",
    "        </div>"
   ]
  },
  {
   "cell_type": "code",
   "execution_count": 19,
   "metadata": {},
   "outputs": [
    {
     "name": "stdout",
     "output_type": "stream",
     "text": [
      "Training score for the custom_c_index metric = 0.5249\n",
      "(19297, 2)\n",
      "(0,)\n",
      "(0,)\n",
      "(19297,)\n",
      "(2413,)\n",
      "(2412,)\n"
     ]
    }
   ],
   "source": [
    "print('Training score for the', metric_name, 'metric = %5.4f' % scoring_function(Y_train, Y_hat_train))\n",
    "#print('Valid score for the', metric_name, 'metric = %5.4f' % scoring_function(Y_valid, Y_hat_valid))\n",
    "#print('Test score for the', metric_name, 'metric = %5.4f' % scoring_function(Y_test, Y_hat_test))\n",
    "#print('Ideal score for the', metric_name, 'metric = %5.4f' % scoring_function(Y_train, Y_train))\n",
    "\n",
    "print( Y_train.shape)\n",
    "print( Y_test.shape)\n",
    "print( Y_valid.shape)\n",
    "print( Y_hat_train.shape)\n",
    "print( Y_hat_valid.shape)\n",
    "print( Y_hat_test.shape)\n"
   ]
  },
  {
   "cell_type": "markdown",
   "metadata": {},
   "source": [
    "<div style=\"background:#FFFFAA\">\n",
    "    <h3>Cross-validation performance</h3>\n",
    "    <p>\n",
    "The participants do not have access to the labels Y_valid and Y_test to self-assess their validation and test performances. But training performance is not a good prediction of validation or test performance. Using cross-validation, the training data is split into multiple training/test folds, which allows participants to self-assess their model during development. The average CV result and 95% confidence interval is displayed.\n",
    "   </div>"
   ]
  },
  {
   "cell_type": "code",
   "execution_count": 20,
   "metadata": {},
   "outputs": [
    {
     "name": "stdout",
     "output_type": "stream",
     "text": [
      "FIT: dim(X)= [15437, 10]\n",
      "FIT: dim(y)= [15437, 2]\n",
      "FIT: dim(X)= [15437, 10]\n",
      "FIT: dim(y)= [15437, 2]\n",
      "FIT: dim(X)= [15438, 10]\n",
      "FIT: dim(y)= [15438, 2]\n",
      "FIT: dim(X)= [15438, 10]\n",
      "FIT: dim(y)= [15438, 2]\n",
      "FIT: dim(X)= [15438, 10]\n",
      "FIT: dim(y)= [15438, 2]\n",
      "\n",
      "CV score (95 perc. CI): 0.49 (+/- 0.02)\n"
     ]
    }
   ],
   "source": [
    "from sklearn.metrics import make_scorer\n",
    "from sklearn.model_selection import cross_val_score\n",
    "scores = cross_val_score(M, X_train, Y_train, cv=5, scoring=make_scorer(scoring_function))\n",
    "print('\\nCV score (95 perc. CI): %0.2f (+/- %0.2f)' % (scores.mean(), scores.std() * 2))"
   ]
  },
  {
   "cell_type": "markdown",
   "metadata": {},
   "source": [
    "<div style=\"background:#FFFFAA\">\n",
    "<h1> Step 3: Making a submission </h1> \n",
    "\n",
    "<h2> Unit testing </h2> \n",
    "\n",
    "It is <b><span style=\"color:red\">important that you test your submission files before submitting them</span></b>. All you have to do to make a submission is modify the file <code>model.py</code> in the <code>sample_code_submission/</code> directory, then run this test to make sure everything works fine. This is the actual program that will be run on the server to test your submission. \n",
    "<br>\n",
    "Keep the sample code simple.\n",
    "</div>"
   ]
  },
  {
   "cell_type": "code",
   "execution_count": 21,
   "metadata": {
    "scrolled": true
   },
   "outputs": [
    {
     "name": "stdout",
     "output_type": "stream",
     "text": [
      "Could not find conda environment: python3\n",
      "You can list all discoverable environments with `conda info --envs`.\n",
      "\n",
      "Using input_dir: /Users/justinenourry/Desktop/survivers/survivers/public_data\n",
      "Using output_dir: /Users/justinenourry/Desktop/survivers/survivers/starting_kit/sample_result_submission\n",
      "Using program_dir: /Users/justinenourry/Desktop/survivers/survivers/starting_kit/ingestion_program\n",
      "Using submission_dir: /Users/justinenourry/Desktop/survivers/survivers/starting_kit/sample_code_submission\n",
      "\n",
      "========== Ingestion program version 6 ==========\n",
      "\n",
      "************************************************\n",
      "******** Processing dataset Mortality ********\n",
      "************************************************\n",
      "========= Reading and converting data ==========\n",
      "Info file found : /Users/justinenourry/Desktop/survivers/survivers/public_data/Mortality_public.info\n",
      "========= Reading /Users/justinenourry/Desktop/survivers/survivers/public_data/Mortality_feat.type\n",
      "[+] Success in  0.00 sec\n",
      "========= Reading /Users/justinenourry/Desktop/survivers/survivers/public_data/Mortality_train.data\n",
      "Replace missing values by 0 (slow, sorry)\n",
      "[+] Success in  0.08 sec\n",
      "========= Reading /Users/justinenourry/Desktop/survivers/survivers/public_data/Mortality_train.solution\n",
      "[+] Success in  0.03 sec\n",
      "========= Reading /Users/justinenourry/Desktop/survivers/survivers/public_data/Mortality_valid.data\n",
      "Replace missing values by 0 (slow, sorry)\n",
      "[+] Success in  0.01 sec\n",
      "========= Reading /Users/justinenourry/Desktop/survivers/survivers/public_data/Mortality_valid.solution\n",
      "[+] Success in  0.00 sec\n",
      "========= Reading /Users/justinenourry/Desktop/survivers/survivers/public_data/Mortality_test.data\n",
      "Replace missing values by 0 (slow, sorry)\n",
      "[+] Success in  0.01 sec\n",
      "========= Reading /Users/justinenourry/Desktop/survivers/survivers/public_data/Mortality_test.solution\n",
      "[+] Success in  0.00 sec\n",
      "DataManager : Mortality\n",
      "info:\n",
      "\tusage = Continuous NHANES Mortality data\n",
      "\tname = mortality\n",
      "\ttask = multilabel.classification\n",
      "\ttarget_type = Numerical\n",
      "\tfeat_type = Numerical\n",
      "\tmetric = concordance_index\n",
      "\ttime_budget = 1200\n",
      "\tfeat_num = 11\n",
      "\ttarget_num = 1\n",
      "\tlabel_num = 2\n",
      "\ttrain_num = 19297\n",
      "\tvalid_num = 2171\n",
      "\ttest_num = 2412\n",
      "\thas_categorical = 0\n",
      "\thas_missing = 0\n",
      "\tis_sparse = 0\n",
      "\tformat = dense\n",
      "data:\n",
      "\tX_train = array(19297, 10)\n",
      "\tY_train = array(19297, 2)\n",
      "\tX_valid = array(2413, 10)\n",
      "\tY_valid = array(0,)\n",
      "\tX_test = array(2412, 10)\n",
      "\tY_test = array(0,)\n",
      "feat_type:\tarray(11,)\n",
      "feat_idx:\tarray(10,)\n",
      "\n",
      "[+] Size of uploaded data  56.00 bytes\n",
      "[+] Cumulated time budget (all tasks so far)  1200.00 sec\n",
      "[+] Time budget for this task 1200.00 sec\n",
      "[+] Remaining time after reading data 1199.86 sec\n",
      "======== Creating model ==========\n",
      "**********************************************************\n",
      "****** Attempting to reload model to avoid training ******\n",
      "**********************************************************\n",
      "======== Trained model not found, proceeding to train!\n",
      "FIT: dim(X)= [19297, 10]\n",
      "FIT: dim(y)= [19297, 2]\n",
      "[+] Fitting success, time spent so far  2.25 sec\n",
      "======== Saving model to: /Users/justinenourry/Desktop/survivers/survivers/starting_kit/sample_result_submission\n",
      "[+] Success!\n",
      "[+] Prediction success, time spent so far  2.29 sec\n",
      "======== Saving results to: /Users/justinenourry/Desktop/survivers/survivers/starting_kit/sample_result_submission\n",
      "[+] Results saved, time spent so far  2.34 sec\n",
      "[+] End cycle, time left 1197.66 sec\n",
      "[+] Done\n",
      "[+] Overall time spent  3.75 sec ::  Overall time budget 1200.00 sec\n"
     ]
    }
   ],
   "source": [
    "!source activate python3; python $problem_dir/ingestion.py $data_dir $result_dir $problem_dir $model_dir"
   ]
  },
  {
   "cell_type": "markdown",
   "metadata": {},
   "source": [
    "<div style=\"background:#FFFFAA\">\n",
    "Also test the scoring program:\n",
    "    </div>"
   ]
  },
  {
   "cell_type": "code",
   "execution_count": 22,
   "metadata": {},
   "outputs": [
    {
     "name": "stdout",
     "output_type": "stream",
     "text": [
      "Could not find conda environment: python3\n",
      "You can list all discoverable environments with `conda info --envs`.\n",
      "\n",
      "======= Set 1 (Mortality_train): custom_c_index(set1_score)=0.524869579282 =======\n"
     ]
    }
   ],
   "source": [
    "scoring_output_dir = '../scoring_output_dir'\n",
    "!source activate python3; python $score_dir/score.py $data_dir $result_dir $scoring_output_dir"
   ]
  },
  {
   "cell_type": "markdown",
   "metadata": {
    "collapsed": true
   },
   "source": [
    "<div style=\"background:#FFFFAA\">\n",
    "    <h1> Preparing the submission </h1>\n",
    "\n",
    "Zip the contents of `sample_code_submission/` (without the directory), or download the challenge public_data and run the command in the previous cell, after replacing sample_data by public_data.\n",
    "Then zip the contents of `sample_result_submission/` (without the directory).\n",
    "<b><span style=\"color:red\">Do NOT zip the data with your submissions</span></b>."
   ]
  },
  {
   "cell_type": "code",
   "execution_count": 23,
   "metadata": {},
   "outputs": [
    {
     "name": "stdout",
     "output_type": "stream",
     "text": [
      "Submit one of these files:\n",
      "../sample_code_submission_19-04-03-23-27.zip\n",
      "../sample_result_submission_19-04-03-23-27.zip\n"
     ]
    }
   ],
   "source": [
    "import datetime \n",
    "from data_io import zipdir\n",
    "the_date = datetime.datetime.now().strftime(\"%y-%m-%d-%H-%M\")\n",
    "sample_code_submission = '../sample_code_submission_' + the_date + '.zip'\n",
    "sample_result_submission = '../sample_result_submission_' + the_date + '.zip'\n",
    "zipdir(sample_code_submission, model_dir)\n",
    "zipdir(sample_result_submission, result_dir)\n",
    "print(\"Submit one of these files:\\n\" + sample_code_submission + \"\\n\" + sample_result_submission)"
   ]
  }
 ],
 "metadata": {
  "kernelspec": {
   "display_name": "Python 3",
   "language": "python",
   "name": "python3"
  },
  "language_info": {
   "codemirror_mode": {
    "name": "ipython",
    "version": 3
   },
   "file_extension": ".py",
   "mimetype": "text/x-python",
   "name": "python",
   "nbconvert_exporter": "python",
   "pygments_lexer": "ipython3",
   "version": "3.7.1"
  }
 },
 "nbformat": 4,
 "nbformat_minor": 1
}
