{
 "cells": [
  {
   "cell_type": "markdown",
   "metadata": {},
   "source": [
    "<div style=\"background:#FFFFAA\">\n",
    "<img src=\"nhanes.jpg\", width=150, border=20>\n",
    "<h1>Survival Starting Kit </h1>\n",
    "</div>"
   ]
  },
  {
   "cell_type": "markdown",
   "metadata": {},
   "source": [
    "<div style=\"background:#FFFFAA\">\n",
    "    <h2>Introduction </h2>\n",
    "    <p>\n",
    "    <span style=\"color:red\">  </span>\n",
    "     <br>\n",
    "In this challenge we try to tackle a survival analysis problem from a machine learning perspective. The goal of survival analysis is to predict the expected time before a given event occur. In our case we try to estimate the survival time of patients given some data from the NHANES dataset. \n",
    "\n",
    "Special thanks to our coordinators Kristin Bennett, Alexander New and Andrew for providing a clean aggregated version of the dataset.\n",
    " <br>\n",
    "    <span style=\"color:red\">  </span>\n",
    "</div>"
   ]
  },
  {
   "cell_type": "code",
   "execution_count": 1,
   "metadata": {},
   "outputs": [],
   "source": [
    "model_dir = 'sample_code_submission/'                        # Change the model to a better one once you have one!\n",
    "#model_dir = '../FILES/pretty_good_sample_code_submission/'\n",
    "result_dir = 'sample_result_submission/' \n",
    "problem_dir = 'ingestion_program/'  \n",
    "score_dir = 'scoring_program/'\n",
    "from sys import path; path.append(model_dir); path.append(problem_dir); path.append(score_dir); \n",
    "%matplotlib inline\n",
    "# Uncomment the next lines to auto-reload libraries (this causes some problem with pickles in Python 3)\n",
    "%load_ext autoreload\n",
    "%autoreload 2\n",
    "import seaborn as sns; sns.set()\n",
    "import warnings\n",
    "warnings.simplefilter(action='ignore', category=FutureWarning)"
   ]
  },
  {
   "cell_type": "markdown",
   "metadata": {},
   "source": [
    "<div style=\"background:#FFFFAA\">\n",
    "    <h1> Step 1: Exploratory data analysis </h1>\n",
    "<p>\n",
    "We provide sample_data with the starting kit, but to prepare your submission, you must fetch the public_data from the challenge website and point to it.\n",
    "    <br>\n",
    "    <span style=\"color:red\">  </span>\n",
    "</div>"
   ]
  },
  {
   "cell_type": "code",
   "execution_count": 4,
   "metadata": {},
   "outputs": [
    {
     "name": "stdout",
     "output_type": "stream",
     "text": [
      "\u001b[31mMortality_feat.name\u001b[m\u001b[m      \u001b[31mMortality_test.data\u001b[m\u001b[m      \u001b[31mMortality_train.solution\u001b[m\u001b[m\r\n",
      "\u001b[31mMortality_label.name\u001b[m\u001b[m     \u001b[31mMortality_test.solution\u001b[m\u001b[m  \u001b[31mMortality_valid.data\u001b[m\u001b[m\r\n",
      "\u001b[31mMortality_public.info\u001b[m\u001b[m    \u001b[31mMortality_train.data\u001b[m\u001b[m     \u001b[31mMortality_valid.solution\u001b[m\u001b[m\r\n"
     ]
    }
   ],
   "source": [
    "data_dir = 'sample_data'              # Change this to the directory where you put the input data\n",
    "data_name = 'Mortality'\n",
    "!ls $data_dir*"
   ]
  },
  {
   "cell_type": "markdown",
   "metadata": {},
   "source": [
    "For convenience, we load the data as a \"pandas\" data frame, so we can use \"pandas\" and \"seaborn\" built in functions to explore the data."
   ]
  },
  {
   "cell_type": "code",
   "execution_count": 5,
   "metadata": {},
   "outputs": [
    {
     "name": "stdout",
     "output_type": "stream",
     "text": [
      "Reading sample_data/Mortality_train from AutoML format\n",
      "Number of examples = 11414\n",
      "Number of features = 681\n",
      "(11414, 681)\n",
      "(11414, 2)\n",
      "(11414, 683)\n"
     ]
    }
   ],
   "source": [
    "from data_io import read_as_df\n",
    "data = read_as_df(data_dir  + '/' + data_name)\n",
    "print(data.shape)# The data are loaded as a Pandas Data Frame"
   ]
  },
  {
   "cell_type": "markdown",
   "metadata": {},
   "source": [
    "Each row is a patient represented by more than 600 features the first of which are:\n",
    "- age : the patient's age \n",
    "- sbp : systolic blood pressure\n",
    "- dbp : diastolic blood pressure\n",
    "- A1c : glycated hemoglobin concentration (A1c test)\n",
    "- bmi : body mass index\n",
    "- gender_male : patient's gender, 0 female, 1 male\n",
    "\n",
    "The initial data contained an ethnicity feature that has been one hot encoded so that the data can be used by models that don't allow categorical data:\n",
    "- ethnicity_NonHispanicBlack : 1 for african american\n",
    "- ethnicity_NonHispanicWhite : 1 for white ethnicity \n",
    "- ethnicity_Other : 1 for neither african american, white or hispanic\n",
    "- ethnicity_OtherHispanic : 1 for hispanic\n",
    "\n",
    "The two last columns target and event are the labels.\n",
    "- target : the survival time to predict \n",
    "- event : if the data is censored (the patient left the study) 1 else 0 \n",
    "\n",
    "The other features meaning are available on the NHANES website."
   ]
  },
  {
   "cell_type": "code",
   "execution_count": 7,
   "metadata": {},
   "outputs": [
    {
     "data": {
      "text/html": [
       "<div>\n",
       "<style scoped>\n",
       "    .dataframe tbody tr th:only-of-type {\n",
       "        vertical-align: middle;\n",
       "    }\n",
       "\n",
       "    .dataframe tbody tr th {\n",
       "        vertical-align: top;\n",
       "    }\n",
       "\n",
       "    .dataframe thead th {\n",
       "        text-align: right;\n",
       "    }\n",
       "</style>\n",
       "<table border=\"1\" class=\"dataframe\">\n",
       "  <thead>\n",
       "    <tr style=\"text-align: right;\">\n",
       "      <th></th>\n",
       "      <th>id</th>\n",
       "      <th>age</th>\n",
       "      <th>sbp</th>\n",
       "      <th>dbp</th>\n",
       "      <th>A1c</th>\n",
       "      <th>bmi</th>\n",
       "      <th>gender_male</th>\n",
       "      <th>ethnicity_NonHispanicBlack</th>\n",
       "      <th>ethnicity_NonHispanicWhite</th>\n",
       "      <th>ethnicity_Other</th>\n",
       "      <th>...</th>\n",
       "      <th>DR1TP204_y.4</th>\n",
       "      <th>DR1TP205_y.4</th>\n",
       "      <th>DR1TP225_y.4</th>\n",
       "      <th>DR1TP226_y.4</th>\n",
       "      <th>DR1_320_y.4</th>\n",
       "      <th>DR1_330_y.4</th>\n",
       "      <th>DR1BWATR_y.4</th>\n",
       "      <th>wt_y.4</th>\n",
       "      <th>target</th>\n",
       "      <th>event</th>\n",
       "    </tr>\n",
       "  </thead>\n",
       "  <tbody>\n",
       "    <tr>\n",
       "      <th>0</th>\n",
       "      <td>36036</td>\n",
       "      <td>55</td>\n",
       "      <td>160.000000</td>\n",
       "      <td>98.000000</td>\n",
       "      <td>5.7</td>\n",
       "      <td>31.45</td>\n",
       "      <td>0</td>\n",
       "      <td>0</td>\n",
       "      <td>0</td>\n",
       "      <td>0</td>\n",
       "      <td>...</td>\n",
       "      <td>0.039</td>\n",
       "      <td>0.000</td>\n",
       "      <td>0.000</td>\n",
       "      <td>0.000</td>\n",
       "      <td>0.00</td>\n",
       "      <td>0.00</td>\n",
       "      <td>0.00</td>\n",
       "      <td>1180.033531</td>\n",
       "      <td>75.0</td>\n",
       "      <td>0.0</td>\n",
       "    </tr>\n",
       "    <tr>\n",
       "      <th>1</th>\n",
       "      <td>36354</td>\n",
       "      <td>70</td>\n",
       "      <td>120.000000</td>\n",
       "      <td>64.000000</td>\n",
       "      <td>6.3</td>\n",
       "      <td>30.29</td>\n",
       "      <td>1</td>\n",
       "      <td>1</td>\n",
       "      <td>0</td>\n",
       "      <td>0</td>\n",
       "      <td>...</td>\n",
       "      <td>0.057</td>\n",
       "      <td>0.001</td>\n",
       "      <td>0.001</td>\n",
       "      <td>0.007</td>\n",
       "      <td>755.44</td>\n",
       "      <td>340.69</td>\n",
       "      <td>414.75</td>\n",
       "      <td>2376.919420</td>\n",
       "      <td>71.0</td>\n",
       "      <td>0.0</td>\n",
       "    </tr>\n",
       "    <tr>\n",
       "      <th>2</th>\n",
       "      <td>38792</td>\n",
       "      <td>33</td>\n",
       "      <td>114.666667</td>\n",
       "      <td>54.666667</td>\n",
       "      <td>4.9</td>\n",
       "      <td>28.98</td>\n",
       "      <td>0</td>\n",
       "      <td>1</td>\n",
       "      <td>0</td>\n",
       "      <td>0</td>\n",
       "      <td>...</td>\n",
       "      <td>0.119</td>\n",
       "      <td>0.030</td>\n",
       "      <td>0.009</td>\n",
       "      <td>0.144</td>\n",
       "      <td>2841.60</td>\n",
       "      <td>0.00</td>\n",
       "      <td>2841.60</td>\n",
       "      <td>2531.864128</td>\n",
       "      <td>80.0</td>\n",
       "      <td>0.0</td>\n",
       "    </tr>\n",
       "    <tr>\n",
       "      <th>3</th>\n",
       "      <td>21656</td>\n",
       "      <td>18</td>\n",
       "      <td>131.333333</td>\n",
       "      <td>57.333333</td>\n",
       "      <td>5.1</td>\n",
       "      <td>36.23</td>\n",
       "      <td>1</td>\n",
       "      <td>0</td>\n",
       "      <td>1</td>\n",
       "      <td>0</td>\n",
       "      <td>...</td>\n",
       "      <td>0.036</td>\n",
       "      <td>0.001</td>\n",
       "      <td>0.000</td>\n",
       "      <td>0.001</td>\n",
       "      <td>2575.20</td>\n",
       "      <td>2575.20</td>\n",
       "      <td>0.00</td>\n",
       "      <td>1928.277481</td>\n",
       "      <td>103.0</td>\n",
       "      <td>0.0</td>\n",
       "    </tr>\n",
       "    <tr>\n",
       "      <th>4</th>\n",
       "      <td>33324</td>\n",
       "      <td>70</td>\n",
       "      <td>108.000000</td>\n",
       "      <td>53.333333</td>\n",
       "      <td>5.8</td>\n",
       "      <td>26.52</td>\n",
       "      <td>1</td>\n",
       "      <td>0</td>\n",
       "      <td>0</td>\n",
       "      <td>0</td>\n",
       "      <td>...</td>\n",
       "      <td>0.085</td>\n",
       "      <td>0.011</td>\n",
       "      <td>0.002</td>\n",
       "      <td>0.023</td>\n",
       "      <td>0.00</td>\n",
       "      <td>0.00</td>\n",
       "      <td>0.00</td>\n",
       "      <td>1901.086774</td>\n",
       "      <td>61.0</td>\n",
       "      <td>0.0</td>\n",
       "    </tr>\n",
       "  </tbody>\n",
       "</table>\n",
       "<p>5 rows × 683 columns</p>\n",
       "</div>"
      ],
      "text/plain": [
       "      id  age         sbp        dbp  A1c    bmi  gender_male  \\\n",
       "0  36036   55  160.000000  98.000000  5.7  31.45            0   \n",
       "1  36354   70  120.000000  64.000000  6.3  30.29            1   \n",
       "2  38792   33  114.666667  54.666667  4.9  28.98            0   \n",
       "3  21656   18  131.333333  57.333333  5.1  36.23            1   \n",
       "4  33324   70  108.000000  53.333333  5.8  26.52            1   \n",
       "\n",
       "   ethnicity_NonHispanicBlack  ethnicity_NonHispanicWhite  ethnicity_Other  \\\n",
       "0                           0                           0                0   \n",
       "1                           1                           0                0   \n",
       "2                           1                           0                0   \n",
       "3                           0                           1                0   \n",
       "4                           0                           0                0   \n",
       "\n",
       "   ...    DR1TP204_y.4  DR1TP205_y.4  DR1TP225_y.4  DR1TP226_y.4  DR1_320_y.4  \\\n",
       "0  ...           0.039         0.000         0.000         0.000         0.00   \n",
       "1  ...           0.057         0.001         0.001         0.007       755.44   \n",
       "2  ...           0.119         0.030         0.009         0.144      2841.60   \n",
       "3  ...           0.036         0.001         0.000         0.001      2575.20   \n",
       "4  ...           0.085         0.011         0.002         0.023         0.00   \n",
       "\n",
       "   DR1_330_y.4  DR1BWATR_y.4       wt_y.4  target  event  \n",
       "0         0.00          0.00  1180.033531    75.0    0.0  \n",
       "1       340.69        414.75  2376.919420    71.0    0.0  \n",
       "2         0.00       2841.60  2531.864128    80.0    0.0  \n",
       "3      2575.20          0.00  1928.277481   103.0    0.0  \n",
       "4         0.00          0.00  1901.086774    61.0    0.0  \n",
       "\n",
       "[5 rows x 683 columns]"
      ]
     },
     "execution_count": 7,
     "metadata": {},
     "output_type": "execute_result"
    }
   ],
   "source": [
    "data.head()"
   ]
  },
  {
   "cell_type": "markdown",
   "metadata": {},
   "source": [
    "The pandas describe() function give us a quick overview of the data statistics"
   ]
  },
  {
   "cell_type": "code",
   "execution_count": 8,
   "metadata": {},
   "outputs": [
    {
     "data": {
      "text/html": [
       "<div>\n",
       "<style scoped>\n",
       "    .dataframe tbody tr th:only-of-type {\n",
       "        vertical-align: middle;\n",
       "    }\n",
       "\n",
       "    .dataframe tbody tr th {\n",
       "        vertical-align: top;\n",
       "    }\n",
       "\n",
       "    .dataframe thead th {\n",
       "        text-align: right;\n",
       "    }\n",
       "</style>\n",
       "<table border=\"1\" class=\"dataframe\">\n",
       "  <thead>\n",
       "    <tr style=\"text-align: right;\">\n",
       "      <th></th>\n",
       "      <th>id</th>\n",
       "      <th>age</th>\n",
       "      <th>sbp</th>\n",
       "      <th>dbp</th>\n",
       "      <th>A1c</th>\n",
       "      <th>bmi</th>\n",
       "      <th>gender_male</th>\n",
       "      <th>ethnicity_NonHispanicBlack</th>\n",
       "      <th>ethnicity_NonHispanicWhite</th>\n",
       "      <th>ethnicity_Other</th>\n",
       "      <th>...</th>\n",
       "      <th>DR1TP204_y.4</th>\n",
       "      <th>DR1TP205_y.4</th>\n",
       "      <th>DR1TP225_y.4</th>\n",
       "      <th>DR1TP226_y.4</th>\n",
       "      <th>DR1_320_y.4</th>\n",
       "      <th>DR1_330_y.4</th>\n",
       "      <th>DR1BWATR_y.4</th>\n",
       "      <th>wt_y.4</th>\n",
       "      <th>target</th>\n",
       "      <th>event</th>\n",
       "    </tr>\n",
       "  </thead>\n",
       "  <tbody>\n",
       "    <tr>\n",
       "      <th>count</th>\n",
       "      <td>11414.000000</td>\n",
       "      <td>11414.000000</td>\n",
       "      <td>11414.000000</td>\n",
       "      <td>11414.000000</td>\n",
       "      <td>11414.000000</td>\n",
       "      <td>11414.000000</td>\n",
       "      <td>11414.000000</td>\n",
       "      <td>11414.000000</td>\n",
       "      <td>11414.000000</td>\n",
       "      <td>11414.000000</td>\n",
       "      <td>...</td>\n",
       "      <td>11414.000000</td>\n",
       "      <td>11414.000000</td>\n",
       "      <td>11414.000000</td>\n",
       "      <td>11414.000000</td>\n",
       "      <td>11414.000000</td>\n",
       "      <td>11414.000000</td>\n",
       "      <td>11414.000000</td>\n",
       "      <td>11414.000000</td>\n",
       "      <td>11414.000000</td>\n",
       "      <td>11414.000000</td>\n",
       "    </tr>\n",
       "    <tr>\n",
       "      <th>mean</th>\n",
       "      <td>36852.290520</td>\n",
       "      <td>47.196864</td>\n",
       "      <td>123.704544</td>\n",
       "      <td>68.816191</td>\n",
       "      <td>5.598589</td>\n",
       "      <td>28.451559</td>\n",
       "      <td>0.484142</td>\n",
       "      <td>0.208428</td>\n",
       "      <td>0.492728</td>\n",
       "      <td>0.038199</td>\n",
       "      <td>...</td>\n",
       "      <td>0.144860</td>\n",
       "      <td>0.041918</td>\n",
       "      <td>0.018542</td>\n",
       "      <td>0.078764</td>\n",
       "      <td>996.029763</td>\n",
       "      <td>607.163136</td>\n",
       "      <td>388.866626</td>\n",
       "      <td>6013.199986</td>\n",
       "      <td>68.378833</td>\n",
       "      <td>0.070878</td>\n",
       "    </tr>\n",
       "    <tr>\n",
       "      <th>std</th>\n",
       "      <td>8911.331931</td>\n",
       "      <td>19.795375</td>\n",
       "      <td>19.495663</td>\n",
       "      <td>13.574775</td>\n",
       "      <td>0.993362</td>\n",
       "      <td>6.448701</td>\n",
       "      <td>0.499770</td>\n",
       "      <td>0.406202</td>\n",
       "      <td>0.499969</td>\n",
       "      <td>0.191684</td>\n",
       "      <td>...</td>\n",
       "      <td>0.134098</td>\n",
       "      <td>0.146890</td>\n",
       "      <td>0.044159</td>\n",
       "      <td>0.205589</td>\n",
       "      <td>1099.675264</td>\n",
       "      <td>958.013661</td>\n",
       "      <td>781.334726</td>\n",
       "      <td>6063.210888</td>\n",
       "      <td>22.397553</td>\n",
       "      <td>0.256632</td>\n",
       "    </tr>\n",
       "    <tr>\n",
       "      <th>min</th>\n",
       "      <td>21009.000000</td>\n",
       "      <td>18.000000</td>\n",
       "      <td>73.000000</td>\n",
       "      <td>0.000000</td>\n",
       "      <td>2.000000</td>\n",
       "      <td>13.360000</td>\n",
       "      <td>0.000000</td>\n",
       "      <td>0.000000</td>\n",
       "      <td>0.000000</td>\n",
       "      <td>0.000000</td>\n",
       "      <td>...</td>\n",
       "      <td>0.000000</td>\n",
       "      <td>0.000000</td>\n",
       "      <td>0.000000</td>\n",
       "      <td>0.000000</td>\n",
       "      <td>0.000000</td>\n",
       "      <td>0.000000</td>\n",
       "      <td>0.000000</td>\n",
       "      <td>83.974954</td>\n",
       "      <td>1.000000</td>\n",
       "      <td>0.000000</td>\n",
       "    </tr>\n",
       "    <tr>\n",
       "      <th>25%</th>\n",
       "      <td>29104.750000</td>\n",
       "      <td>30.000000</td>\n",
       "      <td>110.666667</td>\n",
       "      <td>61.333333</td>\n",
       "      <td>5.100000</td>\n",
       "      <td>23.970000</td>\n",
       "      <td>0.000000</td>\n",
       "      <td>0.000000</td>\n",
       "      <td>0.000000</td>\n",
       "      <td>0.000000</td>\n",
       "      <td>...</td>\n",
       "      <td>0.054000</td>\n",
       "      <td>0.000000</td>\n",
       "      <td>0.000000</td>\n",
       "      <td>0.002000</td>\n",
       "      <td>192.560000</td>\n",
       "      <td>0.000000</td>\n",
       "      <td>0.000000</td>\n",
       "      <td>1856.809008</td>\n",
       "      <td>51.000000</td>\n",
       "      <td>0.000000</td>\n",
       "    </tr>\n",
       "    <tr>\n",
       "      <th>50%</th>\n",
       "      <td>37095.000000</td>\n",
       "      <td>46.000000</td>\n",
       "      <td>120.000000</td>\n",
       "      <td>69.333333</td>\n",
       "      <td>5.400000</td>\n",
       "      <td>27.510000</td>\n",
       "      <td>0.000000</td>\n",
       "      <td>0.000000</td>\n",
       "      <td>0.000000</td>\n",
       "      <td>0.000000</td>\n",
       "      <td>...</td>\n",
       "      <td>0.110000</td>\n",
       "      <td>0.005000</td>\n",
       "      <td>0.004000</td>\n",
       "      <td>0.023000</td>\n",
       "      <td>693.010000</td>\n",
       "      <td>177.600000</td>\n",
       "      <td>0.000000</td>\n",
       "      <td>4090.409893</td>\n",
       "      <td>67.000000</td>\n",
       "      <td>0.000000</td>\n",
       "    </tr>\n",
       "    <tr>\n",
       "      <th>75%</th>\n",
       "      <td>44693.500000</td>\n",
       "      <td>64.000000</td>\n",
       "      <td>133.333333</td>\n",
       "      <td>76.666667</td>\n",
       "      <td>5.700000</td>\n",
       "      <td>31.780000</td>\n",
       "      <td>1.000000</td>\n",
       "      <td>0.000000</td>\n",
       "      <td>1.000000</td>\n",
       "      <td>0.000000</td>\n",
       "      <td>...</td>\n",
       "      <td>0.196000</td>\n",
       "      <td>0.017000</td>\n",
       "      <td>0.020000</td>\n",
       "      <td>0.063000</td>\n",
       "      <td>1466.440000</td>\n",
       "      <td>888.750000</td>\n",
       "      <td>500.000000</td>\n",
       "      <td>7934.973658</td>\n",
       "      <td>87.000000</td>\n",
       "      <td>0.000000</td>\n",
       "    </tr>\n",
       "    <tr>\n",
       "      <th>max</th>\n",
       "      <td>51623.000000</td>\n",
       "      <td>85.000000</td>\n",
       "      <td>270.000000</td>\n",
       "      <td>124.000000</td>\n",
       "      <td>18.000000</td>\n",
       "      <td>130.210000</td>\n",
       "      <td>1.000000</td>\n",
       "      <td>1.000000</td>\n",
       "      <td>1.000000</td>\n",
       "      <td>1.000000</td>\n",
       "      <td>...</td>\n",
       "      <td>1.383000</td>\n",
       "      <td>2.841000</td>\n",
       "      <td>0.895000</td>\n",
       "      <td>3.934000</td>\n",
       "      <td>11159.200000</td>\n",
       "      <td>11159.200000</td>\n",
       "      <td>9472.000000</td>\n",
       "      <td>48351.455002</td>\n",
       "      <td>108.000000</td>\n",
       "      <td>1.000000</td>\n",
       "    </tr>\n",
       "  </tbody>\n",
       "</table>\n",
       "<p>8 rows × 683 columns</p>\n",
       "</div>"
      ],
      "text/plain": [
       "                 id           age           sbp           dbp           A1c  \\\n",
       "count  11414.000000  11414.000000  11414.000000  11414.000000  11414.000000   \n",
       "mean   36852.290520     47.196864    123.704544     68.816191      5.598589   \n",
       "std     8911.331931     19.795375     19.495663     13.574775      0.993362   \n",
       "min    21009.000000     18.000000     73.000000      0.000000      2.000000   \n",
       "25%    29104.750000     30.000000    110.666667     61.333333      5.100000   \n",
       "50%    37095.000000     46.000000    120.000000     69.333333      5.400000   \n",
       "75%    44693.500000     64.000000    133.333333     76.666667      5.700000   \n",
       "max    51623.000000     85.000000    270.000000    124.000000     18.000000   \n",
       "\n",
       "                bmi   gender_male  ethnicity_NonHispanicBlack  \\\n",
       "count  11414.000000  11414.000000                11414.000000   \n",
       "mean      28.451559      0.484142                    0.208428   \n",
       "std        6.448701      0.499770                    0.406202   \n",
       "min       13.360000      0.000000                    0.000000   \n",
       "25%       23.970000      0.000000                    0.000000   \n",
       "50%       27.510000      0.000000                    0.000000   \n",
       "75%       31.780000      1.000000                    0.000000   \n",
       "max      130.210000      1.000000                    1.000000   \n",
       "\n",
       "       ethnicity_NonHispanicWhite  ethnicity_Other      ...       \\\n",
       "count                11414.000000     11414.000000      ...        \n",
       "mean                     0.492728         0.038199      ...        \n",
       "std                      0.499969         0.191684      ...        \n",
       "min                      0.000000         0.000000      ...        \n",
       "25%                      0.000000         0.000000      ...        \n",
       "50%                      0.000000         0.000000      ...        \n",
       "75%                      1.000000         0.000000      ...        \n",
       "max                      1.000000         1.000000      ...        \n",
       "\n",
       "       DR1TP204_y.4  DR1TP205_y.4  DR1TP225_y.4  DR1TP226_y.4   DR1_320_y.4  \\\n",
       "count  11414.000000  11414.000000  11414.000000  11414.000000  11414.000000   \n",
       "mean       0.144860      0.041918      0.018542      0.078764    996.029763   \n",
       "std        0.134098      0.146890      0.044159      0.205589   1099.675264   \n",
       "min        0.000000      0.000000      0.000000      0.000000      0.000000   \n",
       "25%        0.054000      0.000000      0.000000      0.002000    192.560000   \n",
       "50%        0.110000      0.005000      0.004000      0.023000    693.010000   \n",
       "75%        0.196000      0.017000      0.020000      0.063000   1466.440000   \n",
       "max        1.383000      2.841000      0.895000      3.934000  11159.200000   \n",
       "\n",
       "        DR1_330_y.4  DR1BWATR_y.4        wt_y.4        target         event  \n",
       "count  11414.000000  11414.000000  11414.000000  11414.000000  11414.000000  \n",
       "mean     607.163136    388.866626   6013.199986     68.378833      0.070878  \n",
       "std      958.013661    781.334726   6063.210888     22.397553      0.256632  \n",
       "min        0.000000      0.000000     83.974954      1.000000      0.000000  \n",
       "25%        0.000000      0.000000   1856.809008     51.000000      0.000000  \n",
       "50%      177.600000      0.000000   4090.409893     67.000000      0.000000  \n",
       "75%      888.750000    500.000000   7934.973658     87.000000      0.000000  \n",
       "max    11159.200000   9472.000000  48351.455002    108.000000      1.000000  \n",
       "\n",
       "[8 rows x 683 columns]"
      ]
     },
     "execution_count": 8,
     "metadata": {},
     "output_type": "execute_result"
    }
   ],
   "source": [
    "data.describe() "
   ]
  },
  {
   "cell_type": "code",
   "execution_count": 9,
   "metadata": {
    "collapsed": true
   },
   "outputs": [],
   "source": [
    "import numpy as np\n",
    "import pandas as pd\n",
    "import matplotlib.pyplot as plt\n",
    "import seaborn as sns\n",
    "\n",
    "from functools import reduce\n",
    "from lifelines import KaplanMeierFitter, CoxPHFitter\n",
    "from lifelines.utils import concordance_index\n",
    "from sklearn.model_selection import train_test_split"
   ]
  },
  {
   "cell_type": "markdown",
   "metadata": {},
   "source": [
    "In the next cell, we plot histograms of survival time for censored (0) and uncensored (1) examples.\n",
    "\n",
    "We can see that there are no examples of censored example with a low survival time. We can also see that there are more censored data than uncensored"
   ]
  },
  {
   "cell_type": "code",
   "execution_count": 10,
   "metadata": {},
   "outputs": [
    {
     "data": {
      "image/png": "[encoded data removed]",
      "text/plain": [
       "<matplotlib.figure.Figure at 0x1a16b61cf8>"
      ]
     },
     "metadata": {},
     "output_type": "display_data"
    }
   ],
   "source": [
    "ax=data.hist(column='target', by='event', bins=100, layout=(2,1), log=True, sharex=True, sharey=True)"
   ]
  },
  {
   "cell_type": "code",
   "execution_count": 11,
   "metadata": {},
   "outputs": [
    {
     "data": {
      "image/png": "[encoded data removed]",
      "text/plain": [
       "<matplotlib.figure.Figure at 0x1a1660db00>"
      ]
     },
     "metadata": {},
     "output_type": "display_data"
    }
   ],
   "source": [
    "# Better visualise the difference \n",
    "ax = data.hist(column='target', by=['event'], bins=30, sharex=True)"
   ]
  },
  {
   "cell_type": "markdown",
   "metadata": {},
   "source": [
    "We have around 90% of censored data."
   ]
  },
  {
   "cell_type": "code",
   "execution_count": 13,
   "metadata": {},
   "outputs": [
    {
     "name": "stdout",
     "output_type": "stream",
     "text": [
      "Number of uncensored examples : 809\n",
      "Number of censored examples : 10605\n",
      "0.9291221307166637\n"
     ]
    }
   ],
   "source": [
    "df2 = data.loc[data['event'] == 1]\n",
    "nb_uncensored = len(df2)\n",
    "print('Number of uncensored examples : '+str(nb_uncensored))\n",
    "df2 = data.loc[data['event'] == 0]\n",
    "nb_censored = len(df2)\n",
    "print('Number of censored examples : '+str(nb_censored))\n",
    "print(nb_censored / (nb_uncensored + nb_censored))"
   ]
  },
  {
   "cell_type": "markdown",
   "metadata": {},
   "source": [
    "We next plot the same histograms by gender (0 female, 1 male), male survival seems slightly lower.\n"
   ]
  },
  {
   "cell_type": "code",
   "execution_count": 14,
   "metadata": {
    "scrolled": true
   },
   "outputs": [
    {
     "data": {
      "image/png": "[encoded data removed]",
      "text/plain": [
       "<matplotlib.figure.Figure at 0x1a168549e8>"
      ]
     },
     "metadata": {},
     "output_type": "display_data"
    }
   ],
   "source": [
    "# Lifetime distribution by gender \n",
    "ax = data.hist(column='target', by=['gender_male','event'], bins=50\n",
    "             ,sharex=True, figsize=(10,8))"
   ]
  },
  {
   "cell_type": "markdown",
   "metadata": {},
   "source": [
    "<div style=\"background:#FFFFAA\">\n",
    "<h1>Step 2: Building a predictive model</h1>\n",
    "</div>"
   ]
  },
  {
   "cell_type": "markdown",
   "metadata": {},
   "source": [
    "<div style=\"background:#FFFFAA\">\n",
    "    <h2>Loading data with DataManager</h2>\n",
    "    <p>\n",
    "We reload the data with the AutoML DataManager class because this is more convenient:\n",
    "   <br>     <span style=\"color:red\"> </span>\n",
    "</div>"
   ]
  },
  {
   "cell_type": "code",
   "execution_count": 15,
   "metadata": {},
   "outputs": [
    {
     "name": "stdout",
     "output_type": "stream",
     "text": [
      "Info file found : /Volumes/Samsung_T5/survival/clean/projet_AIC_Survival/starting_kit /sample_data/Mortality_public.info\n",
      "DataManager : Mortality\n",
      "info:\n",
      "\tusage = Continuous NHANES Mortality data\n",
      "\tname = mortality\n",
      "\ttask = multilabel.classification\n",
      "\ttarget_type = Numerical\n",
      "\tfeat_type = Numerical\n",
      "\tmetric = concordance_index\n",
      "\ttime_budget = 1200\n",
      "\tfeat_num = 681\n",
      "\ttarget_num = 1\n",
      "\tlabel_num = 2\n",
      "\ttrain_num = 11414\n",
      "\tvalid_num = 1427\n",
      "\ttest_num = 1427\n",
      "\thas_categorical = 0\n",
      "\thas_missing = 0\n",
      "\tis_sparse = 0\n",
      "\tformat = dense\n",
      "data:\n",
      "\tX_train = array(11414, 681)\n",
      "\tY_train = array(11414, 2)\n",
      "\tX_valid = array(1427, 681)\n",
      "\tY_valid = array(1427, 2)\n",
      "\tX_test = array(1427, 681)\n",
      "\tY_test = array(1427, 2)\n",
      "feat_type:\tarray(681,)\n",
      "feat_idx:\tarray(0,)\n",
      "\n"
     ]
    }
   ],
   "source": [
    "from data_manager import DataManager\n",
    "D = DataManager(data_name, data_dir, replace_missing=True)\n",
    "print(D)"
   ]
  },
  {
   "cell_type": "markdown",
   "metadata": {},
   "source": [
    "<div style=\"background:#FFFFAA\">\n",
    "    <h2>Training a predictive model</h2>\n",
    "    <p>\n",
    "We provide an example of predictive model (for classification or regression) in the `sample_code_submission/` directory. It is a quite stupid model: it makes constant predictions. Replace it with your own model.\n",
    "    </div>"
   ]
  },
  {
   "cell_type": "code",
   "execution_count": 17,
   "metadata": {},
   "outputs": [],
   "source": [
    "from data_io import write\n",
    "from model import model\n",
    "import pickle\n",
    "import numpy as np   # We recommend to use numpy arrays\n",
    "from os.path import isfile\n",
    "from sklearn.base import BaseEstimator"
   ]
  },
  {
   "cell_type": "markdown",
   "metadata": {},
   "source": [
    "<div style=\"background:#FFFFAA\">\n",
    "an instance of the model (run the constructor) and attempt to reload a previously saved version from `sample_code_submission/`:\n",
    "\n",
    "To build custom model you can edit the model.py we gave you and zip it with the metadata file so you can make a submission. You can also test the model here. \n",
    "</div>"
   ]
  },
  {
   "cell_type": "code",
   "execution_count": 25,
   "metadata": {
    "collapsed": true
   },
   "outputs": [],
   "source": [
    "# Instantiate you model \n",
    "M = model()"
   ]
  },
  {
   "cell_type": "code",
   "execution_count": 26,
   "metadata": {},
   "outputs": [
    {
     "name": "stdout",
     "output_type": "stream",
     "text": [
      "FIT: dim(X)= [11414, 681]\n",
      "FIT: dim(y)= [11414, 2]\n",
      "PREDICT: dim(X)= [11414, 681]\n",
      "PREDICT: dim(y)= [11414, 2]\n",
      "DEBUG : (11414,)\n",
      "PREDICT: dim(X)= [1427, 681]\n",
      "PREDICT: dim(y)= [1427, 2]\n",
      "DEBUG : (1427,)\n",
      "PREDICT: dim(X)= [1427, 681]\n",
      "PREDICT: dim(y)= [1427, 2]\n",
      "DEBUG : (1427,)\n"
     ]
    }
   ],
   "source": [
    "if not(M.is_trained):\n",
    "    X_train = D.data['X_train']\n",
    "    Y_train = D.data['Y_train']\n",
    "    M.fit(X_train, Y_train)                     \n",
    "\n",
    "Y_hat_train = M.predict(D.data['X_train']) # Optional, not really needed to test on taining examples\n",
    "Y_hat_valid = M.predict(D.data['X_valid'])\n",
    "Y_hat_test = M.predict(D.data['X_test'])\n",
    "\n",
    "Y_valid = D.data['Y_valid']\n",
    "Y_test = D.data['Y_test']"
   ]
  },
  {
   "cell_type": "markdown",
   "metadata": {},
   "source": [
    "<div style=\"background:#FFFFAA\">\n",
    "    Train the model (unless you reloaded a trained model) and make predictions. \n",
    "</div>"
   ]
  },
  {
   "cell_type": "markdown",
   "metadata": {},
   "source": [
    "<div style=\"background:#FFFFAA\">\n",
    "    <b> Save the trained model </b> (will be ready to reload next time around) and save the prediction results. IMPORTANT: if you save the trained model, it will be bundled with your sample code submission. Therefore your model will NOT be retrained on the challenge platform. Remove the pickle from the submission if you want the model to be retrained on the platform.\n",
    "</div>"
   ]
  },
  {
   "cell_type": "code",
   "execution_count": 21,
   "metadata": {},
   "outputs": [],
   "source": [
    "#Uncomment if you want to save the model and or save the results\n",
    "#M.save(trained_model_name)                 \n",
    "#result_name = result_dir + data_name\n",
    "#from data_io import write\n",
    "#write(result_name + '_train.predict', Y_hat_train)\n",
    "#write(result_name + '_valid.predict', Y_hat_valid)\n",
    "#write(result_name + '_test.predict', Y_hat_test)\n",
    "#!ls $result_name*"
   ]
  },
  {
   "cell_type": "markdown",
   "metadata": {},
   "source": [
    "<div style=\"background:#FFFFAA\">\n",
    "    <h2>Scoring the results</h2>\n",
    "    <h3>Load the challenge metric</h3>\n",
    "    <p>\n",
    "<b>The metric chosen for your challenge</b> is identified in the \"metric.txt\" file found in the `scoring_function/` directory. The function \"get_metric\" searches first for a metric having that name in my_metric.py, then in libscores.py, then in sklearn.metric.\n",
    "    </div>"
   ]
  },
  {
   "cell_type": "code",
   "execution_count": 27,
   "metadata": {},
   "outputs": [
    {
     "name": "stdout",
     "output_type": "stream",
     "text": [
      "Using scoring metric: custom_c_index\n",
      "The metric is between 0 and 1. The higher the better\n"
     ]
    }
   ],
   "source": [
    "from libscores import get_metric\n",
    "metric_name, scoring_function = get_metric()\n",
    "print('Using scoring metric:', metric_name)\n",
    "print('The metric is between 0 and 1. The higher the better')"
   ]
  },
  {
   "cell_type": "markdown",
   "metadata": {},
   "source": [
    "<div style=\"background:#FFFFAA\">\n",
    "    <h3> Training performance </h3>\n",
    "    <p>\n",
    "The participants normally posess target values (labels) only for training examples (except for the sample data). We compute with the `example` metric the training score, which should be zero for perfect predictions.\n",
    "        </div>"
   ]
  },
  {
   "cell_type": "code",
   "execution_count": 30,
   "metadata": {},
   "outputs": [
    {
     "name": "stdout",
     "output_type": "stream",
     "text": [
      "Training score for the custom_c_index metric = 0.5941\n",
      "Valid score for the custom_c_index metric = 0.6128\n",
      "Test score for the custom_c_index metric = 0.6055\n"
     ]
    }
   ],
   "source": [
    "print('Training score for the', metric_name, 'metric = %5.4f' % scoring_function(Y_train, Y_hat_train))\n",
    "print('Valid score for the', metric_name, 'metric = %5.4f' % scoring_function(Y_valid, Y_hat_valid))\n",
    "print('Test score for the', metric_name, 'metric = %5.4f' % scoring_function(Y_test, Y_hat_test))\n",
    "#print('Ideal score for the', metric_name, 'metric = %5.4f' % scoring_function(Y_train, Y_train))"
   ]
  },
  {
   "cell_type": "markdown",
   "metadata": {},
   "source": [
    "<div style=\"background:#FFFFAA\">\n",
    "    <h3>Cross-validation performance</h3>\n",
    "    <p>\n",
    "The participants do not have access to the labels Y_valid and Y_test to self-assess their validation and test performances. But training performance is not a good prediction of validation or test performance. Using cross-validation, the training data is split into multiple training/test folds, which allows participants to self-assess their model during development. The average CV result and 95% confidence interval is displayed.\n",
    "   </div>"
   ]
  },
  {
   "cell_type": "code",
   "execution_count": 31,
   "metadata": {},
   "outputs": [
    {
     "name": "stdout",
     "output_type": "stream",
     "text": [
      "FIT: dim(X)= [9131, 681]\n",
      "FIT: dim(y)= [9131, 2]\n",
      "PREDICT: dim(X)= [2283, 681]\n",
      "PREDICT: dim(y)= [2283, 2]\n",
      "DEBUG : (2283,)\n",
      "FIT: dim(X)= [9131, 681]\n",
      "FIT: dim(y)= [9131, 2]\n",
      "PREDICT: dim(X)= [2283, 681]\n",
      "PREDICT: dim(y)= [2283, 2]\n",
      "DEBUG : (2283,)\n",
      "FIT: dim(X)= [9131, 681]\n",
      "FIT: dim(y)= [9131, 2]\n",
      "PREDICT: dim(X)= [2283, 681]\n",
      "PREDICT: dim(y)= [2283, 2]\n",
      "DEBUG : (2283,)\n",
      "FIT: dim(X)= [9131, 681]\n",
      "FIT: dim(y)= [9131, 2]\n",
      "PREDICT: dim(X)= [2283, 681]\n",
      "PREDICT: dim(y)= [2283, 2]\n",
      "DEBUG : (2283,)\n",
      "FIT: dim(X)= [9132, 681]\n",
      "FIT: dim(y)= [9132, 2]\n",
      "PREDICT: dim(X)= [2282, 681]\n",
      "PREDICT: dim(y)= [2282, 2]\n",
      "DEBUG : (2282,)\n",
      "\n",
      "CV score (95 perc. CI): 0.59 (+/- 0.03)\n"
     ]
    }
   ],
   "source": [
    "from sklearn.metrics import make_scorer\n",
    "from sklearn.model_selection import cross_val_score\n",
    "scores = cross_val_score(M, X_train, Y_train, cv=5, scoring=make_scorer(scoring_function))\n",
    "print('\\nCV score (95 perc. CI): %0.2f (+/- %0.2f)' % (scores.mean(), scores.std() * 2))"
   ]
  },
  {
   "cell_type": "markdown",
   "metadata": {},
   "source": [
    "<div style=\"background:#FFFFAA\">\n",
    "<h1> Step 3: Making a submission </h1> \n",
    "\n",
    "<h2> Unit testing </h2> \n",
    "\n",
    "It is <b><span style=\"color:red\">important that you test your submission files before submitting them</span></b>. All you have to do to make a submission is modify the file <code>model.py</code> in the <code>sample_code_submission/</code> directory, then run this test to make sure everything works fine. This is the actual program that will be run on the server to test your submission. \n",
    "<br>\n",
    "Keep the sample code simple.\n",
    "</div>"
   ]
  },
  {
   "cell_type": "code",
   "execution_count": 33,
   "metadata": {
    "scrolled": true
   },
   "outputs": [
    {
     "name": "stdout",
     "output_type": "stream",
     "text": [
      "Could not find conda environment: python3\n",
      "You can list all discoverable environments with `conda info --envs`.\n",
      "\n",
      "Using input_dir: /Volumes/Samsung_T5/survival/clean/projet_AIC_Survival/starting_kit /sample_data\n",
      "Using output_dir: /Volumes/Samsung_T5/survival/clean/projet_AIC_Survival/starting_kit /sample_result_submission\n",
      "Using program_dir: /Volumes/Samsung_T5/survival/clean/projet_AIC_Survival/starting_kit /ingestion_program\n",
      "Using submission_dir: /Volumes/Samsung_T5/survival/clean/projet_AIC_Survival/starting_kit /sample_code_submission\n",
      "\n",
      "========== Ingestion program version 6 ==========\n",
      "\n",
      "************************************************\n",
      "******** Processing dataset Mortality ********\n",
      "************************************************\n",
      "========= Reading and converting data ==========\n",
      "Info file found : /Volumes/Samsung_T5/survival/clean/projet_AIC_Survival/starting_kit /sample_data/Mortality_public.info\n",
      "========= Reading /Volumes/Samsung_T5/survival/clean/projet_AIC_Survival/starting_kit /sample_data/Mortality_feat.type\n",
      "[+] Success in  0.00 sec\n",
      "========= Reading /Volumes/Samsung_T5/survival/clean/projet_AIC_Survival/starting_kit /sample_data/Mortality_train.data\n",
      "Replace missing values by 0 (slow, sorry)\n",
      "[+] Success in  3.84 sec\n",
      "========= Reading /Volumes/Samsung_T5/survival/clean/projet_AIC_Survival/starting_kit /sample_data/Mortality_train.solution\n",
      "[+] Success in  0.03 sec\n",
      "========= Reading /Volumes/Samsung_T5/survival/clean/projet_AIC_Survival/starting_kit /sample_data/Mortality_valid.data\n",
      "Replace missing values by 0 (slow, sorry)\n",
      "[+] Success in  0.46 sec\n",
      "========= Reading /Volumes/Samsung_T5/survival/clean/projet_AIC_Survival/starting_kit /sample_data/Mortality_valid.solution\n",
      "[+] Success in  0.01 sec\n",
      "========= Reading /Volumes/Samsung_T5/survival/clean/projet_AIC_Survival/starting_kit /sample_data/Mortality_test.data\n",
      "Replace missing values by 0 (slow, sorry)\n",
      "[+] Success in  0.47 sec\n",
      "========= Reading /Volumes/Samsung_T5/survival/clean/projet_AIC_Survival/starting_kit /sample_data/Mortality_test.solution\n",
      "[+] Success in  0.01 sec\n",
      "DataManager : Mortality\n",
      "info:\n",
      "\tusage = Continuous NHANES Mortality data\n",
      "\tname = mortality\n",
      "\ttask = multilabel.classification\n",
      "\ttarget_type = Numerical\n",
      "\tfeat_type = Numerical\n",
      "\tmetric = concordance_index\n",
      "\ttime_budget = 1200\n",
      "\tfeat_num = 681\n",
      "\ttarget_num = 1\n",
      "\tlabel_num = 2\n",
      "\ttrain_num = 11414\n",
      "\tvalid_num = 1427\n",
      "\ttest_num = 1427\n",
      "\thas_categorical = 0\n",
      "\thas_missing = 0\n",
      "\tis_sparse = 0\n",
      "\tformat = dense\n",
      "data:\n",
      "\tX_train = array(11414, 681)\n",
      "\tY_train = array(11414, 2)\n",
      "\tX_valid = array(1427, 681)\n",
      "\tY_valid = array(1427, 2)\n",
      "\tX_test = array(1427, 681)\n",
      "\tY_test = array(1427, 2)\n",
      "feat_type:\tarray(681,)\n",
      "feat_idx:\tarray(681,)\n",
      "\n",
      "[+] Size of uploaded data  56.00 bytes\n",
      "[+] Cumulated time budget (all tasks so far)  1200.00 sec\n",
      "[+] Time budget for this task 1200.00 sec\n",
      "[+] Remaining time after reading data 1194.98 sec\n",
      "======== Creating model ==========\n",
      "**********************************************************\n",
      "****** Attempting to reload model to avoid training ******\n",
      "**********************************************************\n",
      "======== Trained model not found, proceeding to train!\n",
      "FIT: dim(X)= [11414, 681]\n",
      "FIT: dim(y)= [11414, 2]\n",
      "[+] Fitting success, time spent so far  0.73 sec\n",
      "======== Saving model to: /Volumes/Samsung_T5/survival/clean/projet_AIC_Survival/starting_kit /sample_result_submission\n",
      "[+] Success!\n",
      "PREDICT: dim(X)= [11414, 681]\n",
      "PREDICT: dim(y)= [11414, 2]\n",
      "DEBUG : (11414,)\n",
      "PREDICT: dim(X)= [1427, 681]\n",
      "PREDICT: dim(y)= [1427, 2]\n",
      "DEBUG : (1427,)\n",
      "PREDICT: dim(X)= [1427, 681]\n",
      "PREDICT: dim(y)= [1427, 2]\n",
      "DEBUG : (1427,)\n",
      "[+] Prediction success, time spent so far  0.94 sec\n",
      "======== Saving results to: /Volumes/Samsung_T5/survival/clean/projet_AIC_Survival/starting_kit /sample_result_submission\n",
      "[+] Results saved, time spent so far  1.05 sec\n",
      "[+] End cycle, time left 1198.95 sec\n",
      "[+] Done\n",
      "[+] Overall time spent  7.21 sec ::  Overall time budget 1200.00 sec\n"
     ]
    }
   ],
   "source": [
    "!source activate python3; python $problem_dir/ingestion.py $data_dir $result_dir $problem_dir $model_dir"
   ]
  },
  {
   "cell_type": "markdown",
   "metadata": {},
   "source": [
    "<div style=\"background:#FFFFAA\">\n",
    "Also test the scoring program:\n",
    "    </div>"
   ]
  },
  {
   "cell_type": "code",
   "execution_count": 34,
   "metadata": {},
   "outputs": [
    {
     "name": "stdout",
     "output_type": "stream",
     "text": [
      "Could not find conda environment: python3\n",
      "You can list all discoverable environments with `conda info --envs`.\n",
      "\n",
      "======= Set 1 (Mortality_test): custom_c_index(set1_score)=0.605534912213 =======\n",
      "======= Set 2 (Mortality_train): custom_c_index(set2_score)=0.594067404704 =======\n",
      "======= Set 3 (Mortality_valid): custom_c_index(set3_score)=0.612830955932 =======\n"
     ]
    }
   ],
   "source": [
    "scoring_output_dir = '../scoring_output_dir'\n",
    "!source activate python3; python $score_dir/score.py $data_dir $result_dir $scoring_output_dir"
   ]
  },
  {
   "cell_type": "markdown",
   "metadata": {
    "collapsed": true
   },
   "source": [
    "<div style=\"background:#FFFFAA\">\n",
    "    <h1> Preparing the submission </h1>\n",
    "\n",
    "Zip the contents of `sample_code_submission/` (without the directory), or download the challenge public_data and run the command in the previous cell, after replacing sample_data by public_data.\n",
    "Then zip the contents of `sample_result_submission/` (without the directory).\n",
    "<b><span style=\"color:red\">Do NOT zip the data with your submissions</span></b>."
   ]
  },
  {
   "cell_type": "code",
   "execution_count": null,
   "metadata": {},
   "outputs": [],
   "source": [
    "import datetime \n",
    "from data_io import zipdir\n",
    "the_date = datetime.datetime.now().strftime(\"%y-%m-%d-%H-%M\")\n",
    "sample_code_submission = '../sample_code_submission_' + the_date + '.zip'\n",
    "sample_result_submission = '../sample_result_submission_' + the_date + '.zip'\n",
    "zipdir(sample_code_submission, model_dir)\n",
    "zipdir(sample_result_submission, result_dir)\n",
    "print(\"Submit one of these files:\\n\" + sample_code_submission + \"\\n\" + sample_result_submission)"
   ]
  }
 ],
 "metadata": {
  "kernelspec": {
   "display_name": "Python 3",
   "language": "python",
   "name": "python3"
  },
  "language_info": {
   "codemirror_mode": {
    "name": "ipython",
    "version": 3
   },
   "file_extension": ".py",
   "mimetype": "text/x-python",
   "name": "python",
   "nbconvert_exporter": "python",
   "pygments_lexer": "ipython3",
   "version": "3.6.8"
  }
 },
 "nbformat": 4,
 "nbformat_minor": 1
}
